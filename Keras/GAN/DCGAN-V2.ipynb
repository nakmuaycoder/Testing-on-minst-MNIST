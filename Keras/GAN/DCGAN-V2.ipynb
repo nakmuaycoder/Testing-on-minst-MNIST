{
 "cells": [
  {
   "cell_type": "markdown",
   "metadata": {},
   "source": [
    "# DCGAN\n",
    "\n"
   ]
  },
  {
   "cell_type": "code",
   "execution_count": 1,
   "metadata": {},
   "outputs": [],
   "source": [
    "import os\n",
    "import tensorflow\n",
    "from tensorflow.keras.layers import Input\n",
    "from tensorflow.keras.models import Model\n",
    "from tensorflow.keras.optimizers import Adam, RMSprop\n",
    "import numpy as np\n",
    "from PIL import Image\n",
    "from matplotlib.pyplot import imshow"
   ]
  },
  {
   "cell_type": "markdown",
   "metadata": {},
   "source": [
    "### Load the data"
   ]
  },
  {
   "cell_type": "code",
   "execution_count": 2,
   "metadata": {},
   "outputs": [],
   "source": [
    "from tensorflow.keras.datasets import mnist\n",
    "(xtr,_),_ = mnist.load_data()\n",
    "xtr = xtr.reshape((-1,28,28,1)).astype('float32')/255"
   ]
  },
  {
   "cell_type": "markdown",
   "metadata": {},
   "source": [
    "### Create a dataViewer"
   ]
  },
  {
   "cell_type": "code",
   "execution_count": 3,
   "metadata": {
    "scrolled": true
   },
   "outputs": [],
   "source": [
    "%matplotlib inline\n",
    "from GAN.utils import dataViewer"
   ]
  },
  {
   "cell_type": "code",
   "execution_count": 4,
   "metadata": {},
   "outputs": [],
   "source": [
    "def viewMnist(mtr):\n",
    "    '''Return from a numpy array an Image'''\n",
    "    mtr = mtr.reshape((28,28))\n",
    "    mtr *= 255\n",
    "    mtr = np.clip(mtr,0,255).astype('uint8')\n",
    "    imshow(mtr,cmap='gray')\n",
    "def saveMnist(mtr,path):\n",
    "    '''Save as file the numpy array'''\n",
    "    mtr = mtr.reshape((28,28))\n",
    "    mtr *= 255\n",
    "    mtr = np.clip(mtr,0,255).astype('uint8')\n",
    "    Image.fromarray(mtr).resize((280,280)).save(path)"
   ]
  },
  {
   "cell_type": "code",
   "execution_count": 5,
   "metadata": {},
   "outputs": [],
   "source": [
    "vwr = dataViewer(functionView=viewMnist,functionSave=saveMnist,path=\"D:/Project/DeepLearning/GAN/DCGAN/output/\")"
   ]
  },
  {
   "cell_type": "markdown",
   "metadata": {},
   "source": [
    "### Create a DCGAN"
   ]
  },
  {
   "cell_type": "code",
   "execution_count": 6,
   "metadata": {},
   "outputs": [],
   "source": [
    "from GAN.GAN.SimpleGAN import DCGAN"
   ]
  },
  {
   "cell_type": "code",
   "execution_count": 7,
   "metadata": {},
   "outputs": [
    {
     "name": "stdout",
     "output_type": "stream",
     "text": [
      "Model: \"discriminator\"\n",
      "_________________________________________________________________\n",
      "Layer (type)                 Output Shape              Param #   \n",
      "=================================================================\n",
      "input_1 (InputLayer)         [(None, 28, 28, 1)]       0         \n",
      "_________________________________________________________________\n",
      "leaky_re_lu (LeakyReLU)      (None, 28, 28, 1)         0         \n",
      "_________________________________________________________________\n",
      "conv2d (Conv2D)              (None, 14, 14, 32)        832       \n",
      "_________________________________________________________________\n",
      "leaky_re_lu_1 (LeakyReLU)    (None, 14, 14, 32)        0         \n",
      "_________________________________________________________________\n",
      "conv2d_1 (Conv2D)            (None, 7, 7, 64)          51264     \n",
      "_________________________________________________________________\n",
      "leaky_re_lu_2 (LeakyReLU)    (None, 7, 7, 64)          0         \n",
      "_________________________________________________________________\n",
      "conv2d_2 (Conv2D)            (None, 4, 4, 128)         204928    \n",
      "_________________________________________________________________\n",
      "leaky_re_lu_3 (LeakyReLU)    (None, 4, 4, 128)         0         \n",
      "_________________________________________________________________\n",
      "conv2d_3 (Conv2D)            (None, 4, 4, 256)         819456    \n",
      "_________________________________________________________________\n",
      "flatten (Flatten)            (None, 4096)              0         \n",
      "_________________________________________________________________\n",
      "dense (Dense)                (None, 1)                 4097      \n",
      "_________________________________________________________________\n",
      "activation (Activation)      (None, 1)                 0         \n",
      "=================================================================\n",
      "Total params: 1,080,577\n",
      "Trainable params: 1,080,577\n",
      "Non-trainable params: 0\n",
      "_________________________________________________________________\n"
     ]
    }
   ],
   "source": [
    "from tensorflow.keras.layers import Input, Dense,Reshape, Conv2D\n",
    "from tensorflow.keras.layers import BatchNormalization,Activation\n",
    "from tensorflow.keras.layers import Conv2DTranspose,Flatten, LeakyReLU\n",
    "#Discriminator\n",
    "\n",
    "kernel_size = 5\n",
    "layer_filters = [32, 64, 128, 256]\n",
    "inpDis = Input(shape=(28,28,1))\n",
    "x = inpDis\n",
    "for filters in layer_filters:\n",
    "    # first 3 convolution layers use strides = 2\n",
    "    # last one uses strides = 1\n",
    "    if filters == layer_filters[-1]:\n",
    "        strides = 1\n",
    "    else:\n",
    "        strides = 2\n",
    "    x = LeakyReLU(alpha=0.2)(x)\n",
    "    x = Conv2D(filters=filters,kernel_size=kernel_size,strides=strides,padding='same')(x)\n",
    "x = Flatten()(x)\n",
    "x = Dense(1)(x)\n",
    "x = Activation('sigmoid')(x)\n",
    "discriminator = Model(inpDis, x, name='discriminator')\n",
    "discriminator.summary()"
   ]
  },
  {
   "cell_type": "code",
   "execution_count": 8,
   "metadata": {},
   "outputs": [
    {
     "name": "stdout",
     "output_type": "stream",
     "text": [
      "Model: \"generator\"\n",
      "_________________________________________________________________\n",
      "Layer (type)                 Output Shape              Param #   \n",
      "=================================================================\n",
      "input_2 (InputLayer)         [(None, 100)]             0         \n",
      "_________________________________________________________________\n",
      "dense_1 (Dense)              (None, 6272)              633472    \n",
      "_________________________________________________________________\n",
      "reshape (Reshape)            (None, 7, 7, 128)         0         \n",
      "_________________________________________________________________\n",
      "batch_normalization (BatchNo (None, 7, 7, 128)         512       \n",
      "_________________________________________________________________\n",
      "activation_1 (Activation)    (None, 7, 7, 128)         0         \n",
      "_________________________________________________________________\n",
      "conv2d_transpose (Conv2DTran (None, 14, 14, 128)       409728    \n",
      "_________________________________________________________________\n",
      "batch_normalization_1 (Batch (None, 14, 14, 128)       512       \n",
      "_________________________________________________________________\n",
      "activation_2 (Activation)    (None, 14, 14, 128)       0         \n",
      "_________________________________________________________________\n",
      "conv2d_transpose_1 (Conv2DTr (None, 28, 28, 64)        204864    \n",
      "_________________________________________________________________\n",
      "batch_normalization_2 (Batch (None, 28, 28, 64)        256       \n",
      "_________________________________________________________________\n",
      "activation_3 (Activation)    (None, 28, 28, 64)        0         \n",
      "_________________________________________________________________\n",
      "conv2d_transpose_2 (Conv2DTr (None, 28, 28, 32)        51232     \n",
      "_________________________________________________________________\n",
      "batch_normalization_3 (Batch (None, 28, 28, 32)        128       \n",
      "_________________________________________________________________\n",
      "activation_4 (Activation)    (None, 28, 28, 32)        0         \n",
      "_________________________________________________________________\n",
      "conv2d_transpose_3 (Conv2DTr (None, 28, 28, 1)         801       \n",
      "_________________________________________________________________\n",
      "activation_5 (Activation)    (None, 28, 28, 1)         0         \n",
      "=================================================================\n",
      "Total params: 1,301,505\n",
      "Trainable params: 1,300,801\n",
      "Non-trainable params: 704\n",
      "_________________________________________________________________\n"
     ]
    }
   ],
   "source": [
    "#Generator\n",
    "\n",
    "kernel_size = 5\n",
    "layer_filters = [128, 64, 32, 1]\n",
    "\n",
    "inputs = Input(shape=100)\n",
    "\n",
    "x = Dense(7 * 7 * layer_filters[0])(inputs)\n",
    "x = Reshape((7,7, layer_filters[0]))(x)\n",
    "\n",
    "for filters in layer_filters:\n",
    "    # first two convolution layers use strides = 2\n",
    "    # the last two use strides = 1\n",
    "    if filters > layer_filters[-2]:\n",
    "        strides = 2\n",
    "    else:\n",
    "        strides = 1\n",
    "    x = BatchNormalization()(x)\n",
    "    x = Activation('relu')(x)\n",
    "    x = Conv2DTranspose(filters=filters,kernel_size=kernel_size,strides=strides,padding='same')(x)\n",
    "x = Activation('sigmoid')(x)\n",
    "generator = Model(inputs, x, name='generator')\n",
    "generator.summary()"
   ]
  },
  {
   "cell_type": "code",
   "execution_count": 9,
   "metadata": {},
   "outputs": [],
   "source": [
    "gan = DCGAN(generator=generator,discriminator=discriminator,DiscrOptimizer=RMSprop(lr=2e-4, decay=6e-8),GanOptimizer=RMSprop(lr=1e-4, decay=3e-8))"
   ]
  },
  {
   "cell_type": "markdown",
   "metadata": {},
   "source": [
    "### Train the DCGAN"
   ]
  },
  {
   "cell_type": "code",
   "execution_count": 10,
   "metadata": {},
   "outputs": [],
   "source": [
    "gan.generateBatchEval(16)"
   ]
  },
  {
   "cell_type": "code",
   "execution_count": 11,
   "metadata": {
    "scrolled": true
   },
   "outputs": [],
   "source": [
    "gan.GenerateOutputs(xtest=gan.evaluationInpt,batchSize=16,returnArray=False,dataViewer=vwr,save=True,View=False,epoch=0)"
   ]
  },
  {
   "cell_type": "code",
   "execution_count": 12,
   "metadata": {},
   "outputs": [
    {
     "name": "stdout",
     "output_type": "stream",
     "text": [
      "Epoch 1\n",
      "117/117 [==============================] - 122s 1s/step\n",
      "Discrimiator: (loss,acc)=(0.0006986771477386355,1.0)\n",
      " \t Adversial: (loss,acc)=(2.6589273716126627e-07,1.0)\n",
      "Epoch 2\n",
      "117/117 [==============================] - 102s 873ms/step\n",
      "Discrimiator: (loss,acc)=(0.00021067119087092578,1.0)\n",
      " \t Adversial: (loss,acc)=(7.358487129211426,0.0)\n",
      "Epoch 3\n",
      "117/117 [==============================] - 104s 888ms/step\n",
      "Discrimiator: (loss,acc)=(0.11280561238527298,0.99609375)\n",
      " \t Adversial: (loss,acc)=(9.659490585327148,0.0)\n",
      "Epoch 4\n",
      "117/117 [==============================] - 107s 916ms/step\n",
      "Discrimiator: (loss,acc)=(0.0841422900557518,0.99609375)\n",
      " \t Adversial: (loss,acc)=(0.718354344367981,0.478515625)\n",
      "Epoch 5\n",
      "117/117 [==============================] - 105s 899ms/step\n",
      "Discrimiator: (loss,acc)=(0.329184353351593,0.888671875)\n",
      " \t Adversial: (loss,acc)=(0.3071974813938141,0.97265625)\n",
      "Epoch 6\n",
      "117/117 [==============================] - 104s 890ms/step\n",
      "Discrimiator: (loss,acc)=(0.6408595442771912,0.62109375)\n",
      " \t Adversial: (loss,acc)=(1.252708911895752,0.0546875)\n",
      "Epoch 7\n",
      "117/117 [==============================] - 104s 888ms/step\n",
      "Discrimiator: (loss,acc)=(0.5567342042922974,0.7412109375)\n",
      " \t Adversial: (loss,acc)=(0.48122483491897583,0.88671875)\n",
      "Epoch 8\n",
      "117/117 [==============================] - 104s 888ms/step\n",
      "Discrimiator: (loss,acc)=(0.5833078026771545,0.6259765625)\n",
      " \t Adversial: (loss,acc)=(1.2350850105285645,0.08203125)\n",
      "Epoch 9\n",
      "117/117 [==============================] - 103s 883ms/step\n",
      "Discrimiator: (loss,acc)=(0.572891116142273,0.7041015625)\n",
      " \t Adversial: (loss,acc)=(1.3420438766479492,0.068359375)\n",
      "Epoch 10\n",
      "117/117 [==============================] - 103s 882ms/step\n",
      "Discrimiator: (loss,acc)=(0.5679903030395508,0.708984375)\n",
      " \t Adversial: (loss,acc)=(1.3324354887008667,0.125)\n",
      "Epoch 11\n",
      "117/117 [==============================] - 103s 882ms/step\n",
      "Discrimiator: (loss,acc)=(0.5661502480506897,0.6953125)\n",
      " \t Adversial: (loss,acc)=(1.3526370525360107,0.07421875)\n",
      "Epoch 12\n",
      "117/117 [==============================] - 103s 878ms/step\n",
      "Discrimiator: (loss,acc)=(0.5560529828071594,0.7177734375)\n",
      " \t Adversial: (loss,acc)=(0.7722427845001221,0.486328125)\n",
      "Epoch 13\n",
      "117/117 [==============================] - 115s 983ms/step\n",
      "Discrimiator: (loss,acc)=(0.5390661954879761,0.75390625)\n",
      " \t Adversial: (loss,acc)=(1.2582439184188843,0.13671875)\n",
      "Epoch 14\n",
      "117/117 [==============================] - 102s 871ms/step\n",
      "Discrimiator: (loss,acc)=(0.6345339417457581,0.6572265625)\n",
      " \t Adversial: (loss,acc)=(0.7078012824058533,0.548828125)\n",
      "Epoch 15\n",
      "117/117 [==============================] - 106s 908ms/step\n",
      "Discrimiator: (loss,acc)=(0.544909656047821,0.7275390625)\n",
      " \t Adversial: (loss,acc)=(1.3973543643951416,0.126953125)\n",
      "Epoch 16\n",
      "117/117 [==============================] - 105s 899ms/step\n",
      "Discrimiator: (loss,acc)=(0.5742326974868774,0.703125)\n",
      " \t Adversial: (loss,acc)=(0.6810476183891296,0.564453125)\n",
      "Epoch 17\n",
      "117/117 [==============================] - 105s 898ms/step\n",
      "Discrimiator: (loss,acc)=(0.571198582649231,0.697265625)\n",
      " \t Adversial: (loss,acc)=(0.8716006278991699,0.396484375)\n",
      "Epoch 18\n",
      "117/117 [==============================] - 107s 915ms/step\n",
      "Discrimiator: (loss,acc)=(0.5510349273681641,0.72265625)\n",
      " \t Adversial: (loss,acc)=(0.9624404311180115,0.33984375)\n",
      "Epoch 19\n",
      "117/117 [==============================] - 108s 927ms/step\n",
      "Discrimiator: (loss,acc)=(0.5462440848350525,0.74609375)\n",
      " \t Adversial: (loss,acc)=(1.0818904638290405,0.251953125)\n",
      "Epoch 20\n",
      "117/117 [==============================] - 107s 912ms/step\n",
      "Discrimiator: (loss,acc)=(0.5839406251907349,0.6884765625)\n",
      " \t Adversial: (loss,acc)=(0.770977258682251,0.490234375)\n",
      "Epoch 21\n",
      "117/117 [==============================] - 106s 906ms/step\n",
      "Discrimiator: (loss,acc)=(0.5490577816963196,0.7294921875)\n",
      " \t Adversial: (loss,acc)=(0.8352659344673157,0.400390625)\n",
      "Epoch 22\n",
      "117/117 [==============================] - 106s 903ms/step\n",
      "Discrimiator: (loss,acc)=(0.57378089427948,0.708984375)\n",
      " \t Adversial: (loss,acc)=(1.225599765777588,0.173828125)\n",
      "Epoch 23\n",
      "117/117 [==============================] - 106s 903ms/step\n",
      "Discrimiator: (loss,acc)=(0.5697674751281738,0.6904296875)\n",
      " \t Adversial: (loss,acc)=(0.7600057125091553,0.50390625)\n",
      "Epoch 24\n",
      "117/117 [==============================] - 106s 904ms/step\n",
      "Discrimiator: (loss,acc)=(0.5763635039329529,0.6943359375)\n",
      " \t Adversial: (loss,acc)=(0.8923900127410889,0.373046875)\n",
      "Epoch 25\n",
      "117/117 [==============================] - 106s 902ms/step\n",
      "Discrimiator: (loss,acc)=(0.5814903974533081,0.685546875)\n",
      " \t Adversial: (loss,acc)=(0.8617650270462036,0.3828125)\n",
      "Epoch 26\n",
      "117/117 [==============================] - 106s 904ms/step\n",
      "Discrimiator: (loss,acc)=(0.5619615316390991,0.7275390625)\n",
      " \t Adversial: (loss,acc)=(0.8791983723640442,0.361328125)\n",
      "Epoch 27\n",
      "117/117 [==============================] - 106s 908ms/step\n",
      "Discrimiator: (loss,acc)=(0.565477192401886,0.7099609375)\n",
      " \t Adversial: (loss,acc)=(0.8906841278076172,0.361328125)\n",
      "Epoch 28\n",
      "117/117 [==============================] - 106s 906ms/step\n",
      "Discrimiator: (loss,acc)=(0.560830295085907,0.7216796875)\n",
      " \t Adversial: (loss,acc)=(0.8093191385269165,0.451171875)\n",
      "Epoch 29\n",
      "117/117 [==============================] - 106s 904ms/step\n",
      "Discrimiator: (loss,acc)=(0.5773122310638428,0.6865234375)\n",
      " \t Adversial: (loss,acc)=(0.7783212661743164,0.484375)\n",
      "Epoch 30\n",
      "117/117 [==============================] - 106s 904ms/step\n",
      "Discrimiator: (loss,acc)=(0.5640292167663574,0.716796875)\n",
      " \t Adversial: (loss,acc)=(0.762505054473877,0.478515625)\n"
     ]
    }
   ],
   "source": [
    "gan.train(x_train=xtr,batch_size=1024,epoch=30,evalStep=(1,10),dataViewer=vwr,pathSave='D:/Project/DeepLearning/GAN/DCGAN/save')"
   ]
  }
 ],
 "metadata": {
  "kernelspec": {
   "display_name": "Python 3",
   "language": "python",
   "name": "python3"
  },
  "language_info": {
   "codemirror_mode": {
    "name": "ipython",
    "version": 3
   },
   "file_extension": ".py",
   "mimetype": "text/x-python",
   "name": "python",
   "nbconvert_exporter": "python",
   "pygments_lexer": "ipython3",
   "version": "3.7.4"
  }
 },
 "nbformat": 4,
 "nbformat_minor": 2
}
