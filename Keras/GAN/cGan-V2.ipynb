{
 "cells": [
  {
   "cell_type": "markdown",
   "metadata": {},
   "source": [
    "# Conditional gan"
   ]
  },
  {
   "cell_type": "code",
   "execution_count": 1,
   "metadata": {},
   "outputs": [],
   "source": [
    "import os\n",
    "import tensorflow\n",
    "from tensorflow.keras.models import Model\n",
    "from tensorflow.keras.optimizers import Adam, RMSprop\n",
    "import numpy as np\n",
    "from tensorflow.keras.utils import to_categorical\n",
    "from tensorflow.keras.layers import Input, Dense,Reshape, Conv2D\n",
    "from tensorflow.keras.layers import BatchNormalization,Activation\n",
    "from tensorflow.keras.layers import Conv2DTranspose,Flatten, LeakyReLU, concatenate\n",
    "from tensorflow.keras.datasets import mnist\n",
    "from PIL import Image\n",
    "from matplotlib.pyplot import imshow"
   ]
  },
  {
   "cell_type": "code",
   "execution_count": 2,
   "metadata": {},
   "outputs": [],
   "source": [
    "from tensorflow.keras.datasets import mnist\n",
    "(xtr,ytr),_ = mnist.load_data()\n",
    "xtr = xtr.reshape((-1,28,28,1)).astype('float32')/255\n",
    "ytr = to_categorical(ytr)"
   ]
  },
  {
   "cell_type": "markdown",
   "metadata": {},
   "source": [
    "### Create a dataViewer"
   ]
  },
  {
   "cell_type": "code",
   "execution_count": 3,
   "metadata": {},
   "outputs": [],
   "source": [
    "%matplotlib inline\n",
    "from GAN.utils import dataViewer"
   ]
  },
  {
   "cell_type": "code",
   "execution_count": 4,
   "metadata": {},
   "outputs": [],
   "source": [
    "def viewMnist(mtr):\n",
    "    '''Return from a numpy array an Image'''\n",
    "    mtr = mtr.reshape((28,28))\n",
    "    mtr *= 255\n",
    "    mtr = np.clip(mtr,0,255).astype('uint8')\n",
    "    imshow(mtr,cmap='gray')\n",
    "def saveMnist(mtr,path):\n",
    "    '''Save as file the numpy array'''\n",
    "    mtr = mtr.reshape((28,28))\n",
    "    mtr *= 255\n",
    "    mtr = np.clip(mtr,0,255).astype('uint8')\n",
    "    Image.fromarray(mtr).resize((280,280)).save(path)"
   ]
  },
  {
   "cell_type": "code",
   "execution_count": 5,
   "metadata": {},
   "outputs": [],
   "source": [
    "vwr = dataViewer(functionView=viewMnist,functionSave=saveMnist,path=\"D:/Project/DeepLearning/GAN/cGAN/output/\")"
   ]
  },
  {
   "cell_type": "markdown",
   "metadata": {},
   "source": [
    "### Create a cGAN instance"
   ]
  },
  {
   "cell_type": "code",
   "execution_count": 6,
   "metadata": {},
   "outputs": [
    {
     "name": "stdout",
     "output_type": "stream",
     "text": [
      "Model: \"generator\"\n",
      "__________________________________________________________________________________________________\n",
      "Layer (type)                    Output Shape         Param #     Connected to                     \n",
      "==================================================================================================\n",
      "LatentInp (InputLayer)          [(None, 100)]        0                                            \n",
      "__________________________________________________________________________________________________\n",
      "LabelInp (InputLayer)           [(None, 10)]         0                                            \n",
      "__________________________________________________________________________________________________\n",
      "concatenate (Concatenate)       (None, 110)          0           LatentInp[0][0]                  \n",
      "                                                                 LabelInp[0][0]                   \n",
      "__________________________________________________________________________________________________\n",
      "dense (Dense)                   (None, 6272)         696192      concatenate[0][0]                \n",
      "__________________________________________________________________________________________________\n",
      "reshape (Reshape)               (None, 7, 7, 128)    0           dense[0][0]                      \n",
      "__________________________________________________________________________________________________\n",
      "batch_normalization (BatchNorma (None, 7, 7, 128)    512         reshape[0][0]                    \n",
      "__________________________________________________________________________________________________\n",
      "activation (Activation)         (None, 7, 7, 128)    0           batch_normalization[0][0]        \n",
      "__________________________________________________________________________________________________\n",
      "conv2d_transpose (Conv2DTranspo (None, 14, 14, 128)  409728      activation[0][0]                 \n",
      "__________________________________________________________________________________________________\n",
      "batch_normalization_1 (BatchNor (None, 14, 14, 128)  512         conv2d_transpose[0][0]           \n",
      "__________________________________________________________________________________________________\n",
      "activation_1 (Activation)       (None, 14, 14, 128)  0           batch_normalization_1[0][0]      \n",
      "__________________________________________________________________________________________________\n",
      "conv2d_transpose_1 (Conv2DTrans (None, 28, 28, 64)   204864      activation_1[0][0]               \n",
      "__________________________________________________________________________________________________\n",
      "batch_normalization_2 (BatchNor (None, 28, 28, 64)   256         conv2d_transpose_1[0][0]         \n",
      "__________________________________________________________________________________________________\n",
      "activation_2 (Activation)       (None, 28, 28, 64)   0           batch_normalization_2[0][0]      \n",
      "__________________________________________________________________________________________________\n",
      "conv2d_transpose_2 (Conv2DTrans (None, 28, 28, 32)   51232       activation_2[0][0]               \n",
      "__________________________________________________________________________________________________\n",
      "batch_normalization_3 (BatchNor (None, 28, 28, 32)   128         conv2d_transpose_2[0][0]         \n",
      "__________________________________________________________________________________________________\n",
      "activation_3 (Activation)       (None, 28, 28, 32)   0           batch_normalization_3[0][0]      \n",
      "__________________________________________________________________________________________________\n",
      "conv2d_transpose_3 (Conv2DTrans (None, 28, 28, 1)    801         activation_3[0][0]               \n",
      "__________________________________________________________________________________________________\n",
      "activation_4 (Activation)       (None, 28, 28, 1)    0           conv2d_transpose_3[0][0]         \n",
      "==================================================================================================\n",
      "Total params: 1,364,225\n",
      "Trainable params: 1,363,521\n",
      "Non-trainable params: 704\n",
      "__________________________________________________________________________________________________\n"
     ]
    }
   ],
   "source": [
    "#Generator\n",
    "\n",
    "def buildGen():\n",
    "\n",
    "    kernel_size = 5\n",
    "    layer_filters = [128, 64, 32, 1]\n",
    "\n",
    "    inpt = Input(shape=(100,),name='LatentInp')\n",
    "    lbl = Input(shape=(10,),name='LabelInp')\n",
    "\n",
    "    kernel_size = 5\n",
    "    layer_filters = [128, 64, 32, 1]\n",
    "\n",
    "    x = concatenate([inpt, lbl], axis=1)\n",
    "    x = Dense(7 * 7 * layer_filters[0])(x)\n",
    "    x = Reshape((7, 7, layer_filters[0]))(x)\n",
    "\n",
    "    for filters in layer_filters:\n",
    "        if filters > layer_filters[-2]:\n",
    "            strides = 2\n",
    "        else:\n",
    "            strides = 1\n",
    "        x = BatchNormalization()(x)\n",
    "        x = Activation('relu')(x)\n",
    "        x = Conv2DTranspose(filters=filters,kernel_size=kernel_size,strides=strides,padding='same')(x)\n",
    "\n",
    "    x = Activation('sigmoid')(x)\n",
    "\n",
    "    return Model([inpt,lbl], x, name='generator')\n",
    "\n",
    "generator = buildGen()\n",
    "generator.summary()"
   ]
  },
  {
   "cell_type": "code",
   "execution_count": 7,
   "metadata": {},
   "outputs": [
    {
     "name": "stdout",
     "output_type": "stream",
     "text": [
      "Model: \"discriminator\"\n",
      "__________________________________________________________________________________________________\n",
      "Layer (type)                    Output Shape         Param #     Connected to                     \n",
      "==================================================================================================\n",
      "LabelInp (InputLayer)           [(None, 10)]         0                                            \n",
      "__________________________________________________________________________________________________\n",
      "dense_1 (Dense)                 (None, 784)          8624        LabelInp[0][0]                   \n",
      "__________________________________________________________________________________________________\n",
      "LatentInp (InputLayer)          [(None, 28, 28, 1)]  0                                            \n",
      "__________________________________________________________________________________________________\n",
      "reshape_1 (Reshape)             (None, 28, 28, 1)    0           dense_1[0][0]                    \n",
      "__________________________________________________________________________________________________\n",
      "concatenate_1 (Concatenate)     (None, 28, 28, 2)    0           LatentInp[0][0]                  \n",
      "                                                                 reshape_1[0][0]                  \n",
      "__________________________________________________________________________________________________\n",
      "leaky_re_lu (LeakyReLU)         (None, 28, 28, 2)    0           concatenate_1[0][0]              \n",
      "__________________________________________________________________________________________________\n",
      "conv2d (Conv2D)                 (None, 14, 14, 32)   1632        leaky_re_lu[0][0]                \n",
      "__________________________________________________________________________________________________\n",
      "leaky_re_lu_1 (LeakyReLU)       (None, 14, 14, 32)   0           conv2d[0][0]                     \n",
      "__________________________________________________________________________________________________\n",
      "conv2d_1 (Conv2D)               (None, 7, 7, 64)     51264       leaky_re_lu_1[0][0]              \n",
      "__________________________________________________________________________________________________\n",
      "leaky_re_lu_2 (LeakyReLU)       (None, 7, 7, 64)     0           conv2d_1[0][0]                   \n",
      "__________________________________________________________________________________________________\n",
      "conv2d_2 (Conv2D)               (None, 4, 4, 128)    204928      leaky_re_lu_2[0][0]              \n",
      "__________________________________________________________________________________________________\n",
      "leaky_re_lu_3 (LeakyReLU)       (None, 4, 4, 128)    0           conv2d_2[0][0]                   \n",
      "__________________________________________________________________________________________________\n",
      "conv2d_3 (Conv2D)               (None, 4, 4, 256)    819456      leaky_re_lu_3[0][0]              \n",
      "__________________________________________________________________________________________________\n",
      "flatten (Flatten)               (None, 4096)         0           conv2d_3[0][0]                   \n",
      "__________________________________________________________________________________________________\n",
      "dense_2 (Dense)                 (None, 1)            4097        flatten[0][0]                    \n",
      "__________________________________________________________________________________________________\n",
      "activation_5 (Activation)       (None, 1)            0           dense_2[0][0]                    \n",
      "==================================================================================================\n",
      "Total params: 1,090,001\n",
      "Trainable params: 1,090,001\n",
      "Non-trainable params: 0\n",
      "__________________________________________________________________________________________________\n"
     ]
    }
   ],
   "source": [
    "#Discriminator\n",
    "\n",
    "def buidDis():\n",
    "    kernel_size = 5\n",
    "    layer_filters = [32, 64, 128, 256]\n",
    "\n",
    "    inp = Input(shape=(28,28,1),name='LatentInp')\n",
    "    lbl = Input(shape=(10,),name='LabelInp')\n",
    "\n",
    "    y = Dense(28 * 28)(lbl)\n",
    "    y = Reshape((28, 28, 1))(y)\n",
    "    x = concatenate([inp, y])\n",
    "\n",
    "    for filters in layer_filters:\n",
    "        if filters == layer_filters[-1]:\n",
    "            strides = 1\n",
    "        else:\n",
    "            strides = 2\n",
    "        x = LeakyReLU(alpha=0.2)(x)\n",
    "        x = Conv2D(filters=filters,\n",
    "                   kernel_size=kernel_size,\n",
    "                   strides=strides,\n",
    "                   padding='same')(x)\n",
    "\n",
    "    x = Flatten()(x)\n",
    "    x = Dense(1)(x)\n",
    "    x = Activation('sigmoid')(x)\n",
    "\n",
    "    return Model([inp, lbl], x, name='discriminator')\n",
    "\n",
    "discriminator = buidDis()\n",
    "discriminator.summary()"
   ]
  },
  {
   "cell_type": "code",
   "execution_count": 8,
   "metadata": {
    "scrolled": false
   },
   "outputs": [],
   "source": [
    "from GAN.GAN.LabelGAN import cGAN"
   ]
  },
  {
   "cell_type": "code",
   "execution_count": 9,
   "metadata": {},
   "outputs": [],
   "source": [
    "gan = cGAN(generator=generator,discriminator=discriminator,DiscrOptimizer=RMSprop(lr=2e-4, decay=6e-8),GanOptimizer=RMSprop(lr=1e-4, decay=3e-8))"
   ]
  },
  {
   "cell_type": "code",
   "execution_count": 10,
   "metadata": {},
   "outputs": [],
   "source": [
    "gan.generateBatchEval(16)"
   ]
  },
  {
   "cell_type": "markdown",
   "metadata": {},
   "source": [
    "### Train the cGAN"
   ]
  },
  {
   "cell_type": "code",
   "execution_count": 11,
   "metadata": {
    "scrolled": true
   },
   "outputs": [
    {
     "data": {
      "image/png": "[encoded data removed]",
      "text/plain": [
       "<Figure size 432x288 with 1 Axes>"
      ]
     },
     "metadata": {
      "needs_background": "light"
     },
     "output_type": "display_data"
    }
   ],
   "source": [
    "gan.GenerateOutputs(xtest=gan.evaluationInpt,batchSize=16,returnArray=False,dataViewer=vwr,save=True,View=False,epoch=0)\n",
    "gan.GenerateOutputs(batchSize=1,returnArray=False,dataViewer=vwr,save=False,View=True,epoch=0)"
   ]
  },
  {
   "cell_type": "code",
   "execution_count": 14,
   "metadata": {
    "scrolled": true
   },
   "outputs": [
    {
     "name": "stdout",
     "output_type": "stream",
     "text": [
      "Epoch 1\n",
      "117/117 [==============================] - 97s 830ms/step\n",
      "Discrimiator: (loss,acc)=(1.343920757790329e-05,1.0)\n",
      " \t Adversial: (loss,acc)=(6.746642611688003e-06,1.0)\n",
      "Epoch 2\n",
      "117/117 [==============================] - 98s 841ms/step\n",
      "Discrimiator: (loss,acc)=(1.8474780321121216,0.5)\n",
      " \t Adversial: (loss,acc)=(7.638718605041504,0.0)\n",
      "Epoch 3\n",
      "117/117 [==============================] - 102s 873ms/step\n",
      "Discrimiator: (loss,acc)=(0.6699057221412659,0.51171875)\n",
      " \t Adversial: (loss,acc)=(11.756094932556152,0.0)\n",
      "Epoch 4\n",
      "117/117 [==============================] - 104s 886ms/step\n",
      "Discrimiator: (loss,acc)=(0.09763706475496292,0.998046875)\n",
      " \t Adversial: (loss,acc)=(2.691343069076538,0.0)\n",
      "Epoch 5\n",
      "117/117 [==============================] - 105s 895ms/step\n",
      "Discrimiator: (loss,acc)=(0.012591889128088951,0.99609375)\n",
      " \t Adversial: (loss,acc)=(0.005166263785213232,1.0)\n",
      "Epoch 6\n",
      "117/117 [==============================] - 107s 911ms/step\n",
      "Discrimiator: (loss,acc)=(0.29379022121429443,0.8583984375)\n",
      " \t Adversial: (loss,acc)=(2.0226821899414062,0.041015625)\n",
      "Epoch 7\n",
      "117/117 [==============================] - 106s 905ms/step\n",
      "Discrimiator: (loss,acc)=(0.6109603047370911,0.6083984375)\n",
      " \t Adversial: (loss,acc)=(1.6278326511383057,0.001953125)\n",
      "Epoch 8\n",
      "117/117 [==============================] - 107s 911ms/step\n",
      "Discrimiator: (loss,acc)=(0.5571042895317078,0.71875)\n",
      " \t Adversial: (loss,acc)=(0.532981276512146,0.796875)\n",
      "Epoch 9\n",
      "117/117 [==============================] - 106s 909ms/step\n",
      "Discrimiator: (loss,acc)=(0.5005374550819397,0.755859375)\n",
      " \t Adversial: (loss,acc)=(1.3935350179672241,0.041015625)\n",
      "Epoch 10\n",
      "117/117 [==============================] - 108s 921ms/step\n",
      "Discrimiator: (loss,acc)=(0.5849592089653015,0.6796875)\n",
      " \t Adversial: (loss,acc)=(1.4629387855529785,0.037109375)\n",
      "Epoch 11\n",
      "117/117 [==============================] - 107s 918ms/step\n",
      "Discrimiator: (loss,acc)=(0.5678884983062744,0.697265625)\n",
      " \t Adversial: (loss,acc)=(0.7993475198745728,0.44921875)\n",
      "Epoch 12\n",
      "117/117 [==============================] - 109s 929ms/step\n",
      "Discrimiator: (loss,acc)=(0.5844438672065735,0.6669921875)\n",
      " \t Adversial: (loss,acc)=(0.783301055431366,0.470703125)\n",
      "Epoch 13\n",
      "117/117 [==============================] - 108s 923ms/step\n",
      "Discrimiator: (loss,acc)=(0.6198031306266785,0.6533203125)\n",
      " \t Adversial: (loss,acc)=(1.3277149200439453,0.06640625)\n",
      "Epoch 14\n",
      "117/117 [==============================] - 107s 911ms/step\n",
      "Discrimiator: (loss,acc)=(0.613676130771637,0.6767578125)\n",
      " \t Adversial: (loss,acc)=(1.2987593412399292,0.109375)\n",
      "Epoch 15\n",
      "117/117 [==============================] - 106s 907ms/step\n",
      "Discrimiator: (loss,acc)=(0.6332813501358032,0.6474609375)\n",
      " \t Adversial: (loss,acc)=(0.7779752016067505,0.435546875)\n",
      "Epoch 16\n",
      "117/117 [==============================] - 106s 907ms/step\n",
      "Discrimiator: (loss,acc)=(0.6337234377861023,0.64453125)\n",
      " \t Adversial: (loss,acc)=(1.1498944759368896,0.10546875)\n",
      "Epoch 17\n",
      "117/117 [==============================] - 105s 900ms/step\n",
      "Discrimiator: (loss,acc)=(0.6554068922996521,0.6240234375)\n",
      " \t Adversial: (loss,acc)=(1.221066951751709,0.091796875)\n",
      "Epoch 18\n",
      "117/117 [==============================] - 106s 910ms/step\n",
      "Discrimiator: (loss,acc)=(0.626770555973053,0.6552734375)\n",
      " \t Adversial: (loss,acc)=(0.7251704931259155,0.51953125)\n",
      "Epoch 19\n",
      "117/117 [==============================] - 107s 912ms/step\n",
      "Discrimiator: (loss,acc)=(0.6488449573516846,0.6103515625)\n",
      " \t Adversial: (loss,acc)=(0.7319672703742981,0.509765625)\n",
      "Epoch 20\n",
      "117/117 [==============================] - 105s 901ms/step\n",
      "Discrimiator: (loss,acc)=(0.6323450803756714,0.634765625)\n",
      " \t Adversial: (loss,acc)=(0.7827833294868469,0.423828125)\n",
      "Epoch 21\n",
      "117/117 [==============================] - 106s 907ms/step\n",
      "Discrimiator: (loss,acc)=(0.6386260390281677,0.62890625)\n",
      " \t Adversial: (loss,acc)=(0.696843147277832,0.5703125)\n",
      "Epoch 22\n",
      "117/117 [==============================] - 105s 896ms/step\n",
      "Discrimiator: (loss,acc)=(0.6387253403663635,0.646484375)\n",
      " \t Adversial: (loss,acc)=(0.7417709231376648,0.484375)\n",
      "Epoch 23\n",
      "117/117 [==============================] - 104s 892ms/step\n",
      "Discrimiator: (loss,acc)=(0.6375542879104614,0.6357421875)\n",
      " \t Adversial: (loss,acc)=(0.7712290287017822,0.474609375)\n",
      "Epoch 24\n",
      "117/117 [==============================] - 105s 895ms/step\n",
      "Discrimiator: (loss,acc)=(0.6504384875297546,0.6005859375)\n",
      " \t Adversial: (loss,acc)=(0.7676453590393066,0.46484375)\n",
      "Epoch 25\n",
      "117/117 [==============================] - 105s 896ms/step\n",
      "Discrimiator: (loss,acc)=(0.6432318091392517,0.62890625)\n",
      " \t Adversial: (loss,acc)=(0.7812926173210144,0.408203125)\n",
      "Epoch 26\n",
      "117/117 [==============================] - 104s 890ms/step\n",
      "Discrimiator: (loss,acc)=(0.6444252133369446,0.6162109375)\n",
      " \t Adversial: (loss,acc)=(0.7049638032913208,0.5234375)\n",
      "Epoch 27\n",
      "117/117 [==============================] - 105s 895ms/step\n",
      "Discrimiator: (loss,acc)=(0.6438312530517578,0.6376953125)\n",
      " \t Adversial: (loss,acc)=(0.8692294359207153,0.337890625)\n",
      "Epoch 28\n",
      "117/117 [==============================] - 104s 892ms/step\n",
      "Discrimiator: (loss,acc)=(0.6491652727127075,0.61328125)\n",
      " \t Adversial: (loss,acc)=(0.7815407514572144,0.4140625)\n",
      "Epoch 29\n",
      "117/117 [==============================] - 103s 884ms/step\n",
      "Discrimiator: (loss,acc)=(0.6411331295967102,0.65234375)\n",
      " \t Adversial: (loss,acc)=(0.707251787185669,0.5703125)\n",
      "Epoch 30\n",
      "117/117 [==============================] - 104s 890ms/step\n",
      "Discrimiator: (loss,acc)=(0.6638145446777344,0.5908203125)\n",
      " \t Adversial: (loss,acc)=(0.7217181921005249,0.515625)\n"
     ]
    }
   ],
   "source": [
    "gan.train(x_train=[xtr,ytr],batch_size=1024,epoch=30,evalStep=(1,10),dataViewer=vwr,pathSave='D:/Project/DeepLearning/GAN/cGAN/save')"
   ]
  }
 ],
 "metadata": {
  "kernelspec": {
   "display_name": "Python 3",
   "language": "python",
   "name": "python3"
  },
  "language_info": {
   "codemirror_mode": {
    "name": "ipython",
    "version": 3
   },
   "file_extension": ".py",
   "mimetype": "text/x-python",
   "name": "python",
   "nbconvert_exporter": "python",
   "pygments_lexer": "ipython3",
   "version": "3.7.4"
  }
 },
 "nbformat": 4,
 "nbformat_minor": 2
}
