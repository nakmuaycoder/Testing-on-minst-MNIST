{
 "cells": [
  {
   "cell_type": "markdown",
   "metadata": {},
   "source": [
    "# LSGAN\n",
    "\n"
   ]
  },
  {
   "cell_type": "code",
   "execution_count": 1,
   "metadata": {},
   "outputs": [],
   "source": [
    "import os\n",
    "import tensorflow\n",
    "from tensorflow.keras.layers import Input,LeakyReLU,Conv2D,Flatten,Dense,Conv2DTranspose\n",
    "from tensorflow.keras.layers import BatchNormalization,Activation, Reshape\n",
    "from tensorflow.keras.models import Model\n",
    "from tensorflow.keras.optimizers import Adam, RMSprop\n",
    "import numpy as np\n",
    "from PIL import Image\n",
    "from matplotlib.pyplot import imshow"
   ]
  },
  {
   "cell_type": "markdown",
   "metadata": {},
   "source": [
    "### Load the data"
   ]
  },
  {
   "cell_type": "code",
   "execution_count": 2,
   "metadata": {},
   "outputs": [],
   "source": [
    "from tensorflow.keras.datasets import mnist\n",
    "(xtr,_),_ = mnist.load_data()\n",
    "xtr = xtr.reshape((-1,28,28,1)).astype('float32')/255"
   ]
  },
  {
   "cell_type": "markdown",
   "metadata": {},
   "source": [
    "### Create a dataViewer"
   ]
  },
  {
   "cell_type": "code",
   "execution_count": 3,
   "metadata": {},
   "outputs": [],
   "source": [
    "%matplotlib inline\n",
    "from GAN.utils import dataViewer"
   ]
  },
  {
   "cell_type": "code",
   "execution_count": 4,
   "metadata": {},
   "outputs": [],
   "source": [
    "def viewMnist(mtr):\n",
    "    '''Return from a numpy array an Image'''\n",
    "    mtr = mtr.reshape((28,28))\n",
    "    mtr *= 255\n",
    "    mtr = np.clip(mtr,0,255).astype('uint8')\n",
    "    imshow(mtr,cmap='gray')\n",
    "def saveMnist(mtr,path):\n",
    "    '''Save as file the numpy array'''\n",
    "    mtr = mtr.reshape((28,28))\n",
    "    mtr *= 255\n",
    "    mtr = np.clip(mtr,0,255).astype('uint8')\n",
    "    Image.fromarray(mtr).resize((280,280)).save(path)"
   ]
  },
  {
   "cell_type": "code",
   "execution_count": 5,
   "metadata": {},
   "outputs": [],
   "source": [
    "vwr = dataViewer(functionView=viewMnist,functionSave=saveMnist,path=\"D:/Project/DeepLearning/GAN/LSGAN/output/\")"
   ]
  },
  {
   "cell_type": "markdown",
   "metadata": {},
   "source": [
    "### Create a LSGAN"
   ]
  },
  {
   "cell_type": "code",
   "execution_count": 6,
   "metadata": {
    "scrolled": true
   },
   "outputs": [],
   "source": [
    "from GAN.GAN.SimpleGAN import LSGAN"
   ]
  },
  {
   "cell_type": "code",
   "execution_count": 7,
   "metadata": {},
   "outputs": [
    {
     "name": "stdout",
     "output_type": "stream",
     "text": [
      "Model: \"discriminator\"\n",
      "_________________________________________________________________\n",
      "Layer (type)                 Output Shape              Param #   \n",
      "=================================================================\n",
      "input_1 (InputLayer)         [(None, 28, 28, 1)]       0         \n",
      "_________________________________________________________________\n",
      "leaky_re_lu (LeakyReLU)      (None, 28, 28, 1)         0         \n",
      "_________________________________________________________________\n",
      "conv2d (Conv2D)              (None, 14, 14, 32)        832       \n",
      "_________________________________________________________________\n",
      "leaky_re_lu_1 (LeakyReLU)    (None, 14, 14, 32)        0         \n",
      "_________________________________________________________________\n",
      "conv2d_1 (Conv2D)            (None, 7, 7, 64)          51264     \n",
      "_________________________________________________________________\n",
      "leaky_re_lu_2 (LeakyReLU)    (None, 7, 7, 64)          0         \n",
      "_________________________________________________________________\n",
      "conv2d_2 (Conv2D)            (None, 4, 4, 128)         204928    \n",
      "_________________________________________________________________\n",
      "leaky_re_lu_3 (LeakyReLU)    (None, 4, 4, 128)         0         \n",
      "_________________________________________________________________\n",
      "conv2d_3 (Conv2D)            (None, 4, 4, 256)         819456    \n",
      "_________________________________________________________________\n",
      "flatten (Flatten)            (None, 4096)              0         \n",
      "_________________________________________________________________\n",
      "dense (Dense)                (None, 1)                 4097      \n",
      "=================================================================\n",
      "Total params: 1,080,577\n",
      "Trainable params: 1,080,577\n",
      "Non-trainable params: 0\n",
      "_________________________________________________________________\n"
     ]
    }
   ],
   "source": [
    "def buildDisc():\n",
    "    '''Buid the discriminator'''\n",
    "    kernel_size = 5\n",
    "    layer_filters = [32, 64, 128, 256]\n",
    "    \n",
    "    \n",
    "    inputs = Input(shape=(28,28,1)  )\n",
    "    x = inputs\n",
    "    for filters in layer_filters:\n",
    "        if filters == layer_filters[-1]:\n",
    "            strides = 1\n",
    "        else:\n",
    "            strides = 2\n",
    "        x = LeakyReLU(alpha=0.2)(x)\n",
    "        x = Conv2D(filters=filters,kernel_size=kernel_size,strides=strides,padding='same')(x)\n",
    "\n",
    "    x = Flatten()(x)\n",
    "    # default output is probability that the image is real\n",
    "    outputs = Dense(1)(x)\n",
    "\n",
    "    return Model(inputs, outputs, name='discriminator')\n",
    "\n",
    "\n",
    "discriminator = buildDisc()\n",
    "discriminator.summary()"
   ]
  },
  {
   "cell_type": "code",
   "execution_count": 8,
   "metadata": {},
   "outputs": [
    {
     "name": "stdout",
     "output_type": "stream",
     "text": [
      "Model: \"generator\"\n",
      "_________________________________________________________________\n",
      "Layer (type)                 Output Shape              Param #   \n",
      "=================================================================\n",
      "input_2 (InputLayer)         [(None, 100)]             0         \n",
      "_________________________________________________________________\n",
      "dense_1 (Dense)              (None, 6272)              633472    \n",
      "_________________________________________________________________\n",
      "reshape (Reshape)            (None, 7, 7, 128)         0         \n",
      "_________________________________________________________________\n",
      "batch_normalization (BatchNo (None, 7, 7, 128)         512       \n",
      "_________________________________________________________________\n",
      "activation (Activation)      (None, 7, 7, 128)         0         \n",
      "_________________________________________________________________\n",
      "conv2d_transpose (Conv2DTran (None, 14, 14, 128)       409728    \n",
      "_________________________________________________________________\n",
      "batch_normalization_1 (Batch (None, 14, 14, 128)       512       \n",
      "_________________________________________________________________\n",
      "activation_1 (Activation)    (None, 14, 14, 128)       0         \n",
      "_________________________________________________________________\n",
      "conv2d_transpose_1 (Conv2DTr (None, 28, 28, 64)        204864    \n",
      "_________________________________________________________________\n",
      "batch_normalization_2 (Batch (None, 28, 28, 64)        256       \n",
      "_________________________________________________________________\n",
      "activation_2 (Activation)    (None, 28, 28, 64)        0         \n",
      "_________________________________________________________________\n",
      "conv2d_transpose_2 (Conv2DTr (None, 28, 28, 32)        51232     \n",
      "_________________________________________________________________\n",
      "batch_normalization_3 (Batch (None, 28, 28, 32)        128       \n",
      "_________________________________________________________________\n",
      "activation_3 (Activation)    (None, 28, 28, 32)        0         \n",
      "_________________________________________________________________\n",
      "conv2d_transpose_3 (Conv2DTr (None, 28, 28, 1)         801       \n",
      "_________________________________________________________________\n",
      "activation_4 (Activation)    (None, 28, 28, 1)         0         \n",
      "=================================================================\n",
      "Total params: 1,301,505\n",
      "Trainable params: 1,300,801\n",
      "Non-trainable params: 704\n",
      "_________________________________________________________________\n"
     ]
    }
   ],
   "source": [
    "def buildGen():\n",
    "    '''Build the generator'''\n",
    "    # network parameters\n",
    "    kernel_size = 5\n",
    "    layer_filters = [128, 64, 32, 1]\n",
    "    \n",
    "    inputs = Input(shape=(100,))\n",
    "    x = inputs\n",
    "\n",
    "    x = Dense(7 * 7 * layer_filters[0])(x)\n",
    "    x = Reshape((7, 7, layer_filters[0]))(x)\n",
    "\n",
    "    for filters in layer_filters:\n",
    "        if filters > layer_filters[-2]:\n",
    "            strides = 2\n",
    "        else:\n",
    "            strides = 1\n",
    "        x = BatchNormalization()(x)\n",
    "        x = Activation('relu')(x)\n",
    "        x = Conv2DTranspose(filters=filters,kernel_size=kernel_size,strides=strides,padding='same')(x)\n",
    "\n",
    "    x = Activation('sigmoid')(x)\n",
    "\n",
    "    # generator output is the synthesized image x\n",
    "    return Model(inputs, x, name='generator')\n",
    "\n",
    "\n",
    "generator = buildGen()\n",
    "generator.summary()"
   ]
  },
  {
   "cell_type": "code",
   "execution_count": 9,
   "metadata": {},
   "outputs": [],
   "source": [
    "gan = LSGAN(generator=generator,discriminator=discriminator,DiscrOptimizer=RMSprop(lr=5e-5),GanOptimizer=RMSprop(lr=5e-5))"
   ]
  },
  {
   "cell_type": "code",
   "execution_count": 10,
   "metadata": {},
   "outputs": [],
   "source": [
    "gan.generateBatchEval()"
   ]
  },
  {
   "cell_type": "code",
   "execution_count": 11,
   "metadata": {
    "scrolled": true
   },
   "outputs": [
    {
     "data": {
      "image/png": "[encoded data removed]",
      "text/plain": [
       "<Figure size 432x288 with 1 Axes>"
      ]
     },
     "metadata": {
      "needs_background": "light"
     },
     "output_type": "display_data"
    }
   ],
   "source": [
    "gan.GenerateOutputs(xtest=gan.evaluationInpt,batchSize=16,returnArray=False,dataViewer=vwr,save=True,View=False,epoch=0)\n",
    "gan.GenerateOutputs(batchSize=1,returnArray=False,dataViewer=vwr,save=False,View=True,epoch=0)"
   ]
  },
  {
   "cell_type": "markdown",
   "metadata": {},
   "source": [
    "### Train the LSGAN"
   ]
  },
  {
   "cell_type": "code",
   "execution_count": 12,
   "metadata": {},
   "outputs": [
    {
     "name": "stdout",
     "output_type": "stream",
     "text": [
      "Epoch 1\n",
      "117/117 [==============================] - 94s 804ms/step\n",
      "Discrimiator: (loss,acc)=(0.002762429416179657,1.0)\n",
      " \t Adversial: (loss,acc)=(0.0271889790892601,1.0)\n",
      "Epoch 2\n",
      "117/117 [==============================] - 96s 822ms/step\n",
      "Discrimiator: (loss,acc)=(0.17659591138362885,0.6982421875)\n",
      " \t Adversial: (loss,acc)=(0.8411511778831482,0.0)\n",
      "Epoch 3\n",
      "117/117 [==============================] - 98s 838ms/step\n",
      "Discrimiator: (loss,acc)=(0.0036571465898305178,0.9990234375)\n",
      " \t Adversial: (loss,acc)=(0.00796462595462799,1.0)\n",
      "Epoch 4\n",
      "117/117 [==============================] - 100s 855ms/step\n",
      "Discrimiator: (loss,acc)=(0.014047744683921337,0.9990234375)\n",
      " \t Adversial: (loss,acc)=(0.16502059996128082,0.958984375)\n",
      "Epoch 5\n",
      "117/117 [==============================] - 101s 861ms/step\n",
      "Discrimiator: (loss,acc)=(0.003324997378513217,1.0)\n",
      " \t Adversial: (loss,acc)=(0.003985229879617691,1.0)\n",
      "Epoch 6\n",
      "117/117 [==============================] - 102s 873ms/step\n",
      "Discrimiator: (loss,acc)=(0.00509960250928998,1.0)\n",
      " \t Adversial: (loss,acc)=(0.0005214486736804247,1.0)\n",
      "Epoch 7\n",
      "117/117 [==============================] - 103s 877ms/step\n",
      "Discrimiator: (loss,acc)=(0.00393278244882822,1.0)\n",
      " \t Adversial: (loss,acc)=(0.0026002279482781887,1.0)\n",
      "Epoch 8\n",
      "117/117 [==============================] - 103s 883ms/step\n",
      "Discrimiator: (loss,acc)=(0.06418555974960327,0.9384765625)\n",
      " \t Adversial: (loss,acc)=(0.11408896744251251,0.998046875)\n",
      "Epoch 9\n",
      "117/117 [==============================] - 103s 882ms/step\n",
      "Discrimiator: (loss,acc)=(0.010254725813865662,0.994140625)\n",
      " \t Adversial: (loss,acc)=(0.045546822249889374,1.0)\n",
      "Epoch 10\n",
      "117/117 [==============================] - 104s 886ms/step\n",
      "Discrimiator: (loss,acc)=(0.07931490242481232,0.9287109375)\n",
      " \t Adversial: (loss,acc)=(0.5892285704612732,0.048828125)\n",
      "Epoch 11\n",
      "117/117 [==============================] - 104s 889ms/step\n",
      "Discrimiator: (loss,acc)=(0.03388218581676483,0.9873046875)\n",
      " \t Adversial: (loss,acc)=(0.05794139951467514,0.990234375)\n",
      "Epoch 12\n",
      "117/117 [==============================] - 103s 883ms/step\n",
      "Discrimiator: (loss,acc)=(0.20162345468997955,0.75)\n",
      " \t Adversial: (loss,acc)=(0.4119774401187897,0.193359375)\n",
      "Epoch 13\n",
      "117/117 [==============================] - 103s 883ms/step\n",
      "Discrimiator: (loss,acc)=(0.19405242800712585,0.7265625)\n",
      " \t Adversial: (loss,acc)=(0.3903530240058899,0.31640625)\n",
      "Epoch 14\n",
      "117/117 [==============================] - 103s 884ms/step\n",
      "Discrimiator: (loss,acc)=(0.16814836859703064,0.763671875)\n",
      " \t Adversial: (loss,acc)=(0.26379743218421936,0.544921875)\n",
      "Epoch 15\n",
      "117/117 [==============================] - 104s 886ms/step\n",
      "Discrimiator: (loss,acc)=(0.19196465611457825,0.720703125)\n",
      " \t Adversial: (loss,acc)=(0.29376423358917236,0.48046875)\n",
      "Epoch 16\n",
      "117/117 [==============================] - 103s 883ms/step\n",
      "Discrimiator: (loss,acc)=(0.17199388146400452,0.748046875)\n",
      " \t Adversial: (loss,acc)=(0.39012476801872253,0.306640625)\n",
      "Epoch 17\n",
      "117/117 [==============================] - 103s 877ms/step\n",
      "Discrimiator: (loss,acc)=(0.19759070873260498,0.6982421875)\n",
      " \t Adversial: (loss,acc)=(0.3999074399471283,0.275390625)\n",
      "Epoch 18\n",
      "117/117 [==============================] - 103s 877ms/step\n",
      "Discrimiator: (loss,acc)=(0.19390785694122314,0.708984375)\n",
      " \t Adversial: (loss,acc)=(0.4131987690925598,0.26953125)\n",
      "Epoch 19\n",
      "117/117 [==============================] - 103s 880ms/step\n",
      "Discrimiator: (loss,acc)=(0.18869304656982422,0.7119140625)\n",
      " \t Adversial: (loss,acc)=(0.3993271291255951,0.296875)\n",
      "Epoch 20\n",
      "117/117 [==============================] - 104s 885ms/step\n",
      "Discrimiator: (loss,acc)=(0.18670806288719177,0.7265625)\n",
      " \t Adversial: (loss,acc)=(0.3633291721343994,0.33203125)\n",
      "Epoch 21\n",
      "117/117 [==============================] - 104s 887ms/step\n",
      "Discrimiator: (loss,acc)=(0.18676085770130157,0.7392578125)\n",
      " \t Adversial: (loss,acc)=(0.39879855513572693,0.2890625)\n",
      "Epoch 22\n",
      "117/117 [==============================] - 103s 876ms/step\n",
      "Discrimiator: (loss,acc)=(0.2004089653491974,0.697265625)\n",
      " \t Adversial: (loss,acc)=(0.3079729378223419,0.40625)\n",
      "Epoch 23\n",
      "117/117 [==============================] - 104s 888ms/step\n",
      "Discrimiator: (loss,acc)=(0.19563420116901398,0.701171875)\n",
      " \t Adversial: (loss,acc)=(0.3765062391757965,0.3359375)\n",
      "Epoch 24\n",
      "117/117 [==============================] - 103s 879ms/step\n",
      "Discrimiator: (loss,acc)=(0.19396258890628815,0.7265625)\n",
      " \t Adversial: (loss,acc)=(0.3854897618293762,0.30078125)\n",
      "Epoch 25\n",
      "117/117 [==============================] - 102s 874ms/step\n",
      "Discrimiator: (loss,acc)=(0.19642455875873566,0.7060546875)\n",
      " \t Adversial: (loss,acc)=(0.3591996133327484,0.34765625)\n",
      "Epoch 26\n",
      "117/117 [==============================] - 102s 876ms/step\n",
      "Discrimiator: (loss,acc)=(0.19459007680416107,0.716796875)\n",
      " \t Adversial: (loss,acc)=(0.37158018350601196,0.3125)\n",
      "Epoch 27\n",
      "117/117 [==============================] - 101s 863ms/step\n",
      "Discrimiator: (loss,acc)=(0.19808995723724365,0.6962890625)\n",
      " \t Adversial: (loss,acc)=(0.35701045393943787,0.3515625)\n",
      "Epoch 28\n",
      "117/117 [==============================] - 101s 865ms/step\n",
      "Discrimiator: (loss,acc)=(0.19382962584495544,0.7119140625)\n",
      " \t Adversial: (loss,acc)=(0.27431005239486694,0.5234375)\n",
      "Epoch 29\n",
      "117/117 [==============================] - 101s 865ms/step\n",
      "Discrimiator: (loss,acc)=(0.2265433669090271,0.6552734375)\n",
      " \t Adversial: (loss,acc)=(0.23163002729415894,0.6171875)\n",
      "Epoch 30\n",
      "117/117 [==============================] - 96s 817ms/step\n",
      "Discrimiator: (loss,acc)=(0.20734789967536926,0.6845703125)\n",
      " \t Adversial: (loss,acc)=(0.3053499460220337,0.4375)\n"
     ]
    }
   ],
   "source": [
    "gan.train(x_train=xtr,batch_size=1024,epoch=30,evalStep=(1,10),dataViewer=vwr,pathSave='D:/Project/DeepLearning/GAN/LSGAN/save')"
   ]
  }
 ],
 "metadata": {
  "kernelspec": {
   "display_name": "Python 3",
   "language": "python",
   "name": "python3"
  },
  "language_info": {
   "codemirror_mode": {
    "name": "ipython",
    "version": 3
   },
   "file_extension": ".py",
   "mimetype": "text/x-python",
   "name": "python",
   "nbconvert_exporter": "python",
   "pygments_lexer": "ipython3",
   "version": "3.7.4"
  }
 },
 "nbformat": 4,
 "nbformat_minor": 2
}
