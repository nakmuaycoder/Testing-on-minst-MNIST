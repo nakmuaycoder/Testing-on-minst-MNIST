{
 "cells": [
  {
   "cell_type": "markdown",
   "metadata": {},
   "source": [
    "# StackedGAN"
   ]
  },
  {
   "cell_type": "code",
   "execution_count": 1,
   "metadata": {},
   "outputs": [],
   "source": [
    "import os\n",
    "import tensorflow\n",
    "from tensorflow.keras.models import Model, Sequential\n",
    "from tensorflow.keras.optimizers import Adam, RMSprop\n",
    "import numpy as np\n",
    "from tensorflow.keras.utils import to_categorical\n",
    "from tensorflow.keras.layers import Input, Dense,Reshape, Conv2D, Dropout,MaxPooling2D\n",
    "from tensorflow.keras.layers import BatchNormalization,Activation,Embedding,multiply\n",
    "from tensorflow.keras.layers import Conv2DTranspose,Flatten, LeakyReLU, concatenate\n",
    "from tensorflow.keras.datasets import mnist\n",
    "from PIL import Image\n",
    "from matplotlib.pyplot import imshow"
   ]
  },
  {
   "cell_type": "code",
   "execution_count": 2,
   "metadata": {},
   "outputs": [],
   "source": [
    "#temp\n",
    "import tensorflow.keras.backend as K"
   ]
  },
  {
   "cell_type": "markdown",
   "metadata": {},
   "source": [
    "## Load the data"
   ]
  },
  {
   "cell_type": "code",
   "execution_count": 3,
   "metadata": {},
   "outputs": [],
   "source": [
    "from tensorflow.keras.datasets import mnist\n",
    "(xtr,ytr), (xtest,ytest) = mnist.load_data()\n",
    "xtr = xtr.reshape((-1,28,28,1)).astype('float32')/255\n",
    "xtest = xtest.reshape((-1,28,28,1)).astype('float32')/255\n",
    "ytr = to_categorical(ytr)\n",
    "ytest = to_categorical(ytest)"
   ]
  },
  {
   "cell_type": "markdown",
   "metadata": {},
   "source": [
    "### Create a dataViewer"
   ]
  },
  {
   "cell_type": "code",
   "execution_count": 4,
   "metadata": {},
   "outputs": [],
   "source": [
    "%matplotlib inline\n",
    "from GAN.utils import dataViewer"
   ]
  },
  {
   "cell_type": "code",
   "execution_count": 5,
   "metadata": {},
   "outputs": [],
   "source": [
    "def viewMnist(mtr):\n",
    "    '''Return from a numpy array an Image'''\n",
    "    mtr = mtr.reshape((28,28))\n",
    "    mtr *= 255\n",
    "    mtr = np.clip(mtr,0,255).astype('uint8')\n",
    "    imshow(mtr,cmap='gray')\n",
    "def saveMnist(mtr,path):\n",
    "    '''Save as file the numpy array'''\n",
    "    mtr = mtr.reshape((28,28))\n",
    "    mtr *= 255\n",
    "    mtr = np.clip(mtr,0,255).astype('uint8')\n",
    "    Image.fromarray(mtr).resize((280,280)).save(path)"
   ]
  },
  {
   "cell_type": "code",
   "execution_count": 6,
   "metadata": {},
   "outputs": [],
   "source": [
    "vwr = dataViewer(functionView=viewMnist,functionSave=saveMnist,path=\"D:/Project/DeepLearning/GAN/StackedGAN/output/\")"
   ]
  },
  {
   "cell_type": "markdown",
   "metadata": {},
   "source": [
    "### Create a stackedGAN"
   ]
  },
  {
   "cell_type": "code",
   "execution_count": 7,
   "metadata": {
    "scrolled": true
   },
   "outputs": [
    {
     "name": "stdout",
     "output_type": "stream",
     "text": [
      "Model: \"encoder0\"\n",
      "_________________________________________________________________\n",
      "Layer (type)                 Output Shape              Param #   \n",
      "=================================================================\n",
      "ImageInput (InputLayer)      [(None, 28, 28, 1)]       0         \n",
      "_________________________________________________________________\n",
      "conv2d (Conv2D)              (None, 28, 28, 64)        640       \n",
      "_________________________________________________________________\n",
      "max_pooling2d (MaxPooling2D) (None, 14, 14, 64)        0         \n",
      "_________________________________________________________________\n",
      "conv2d_1 (Conv2D)            (None, 14, 14, 64)        36928     \n",
      "_________________________________________________________________\n",
      "max_pooling2d_1 (MaxPooling2 (None, 7, 7, 64)          0         \n",
      "_________________________________________________________________\n",
      "flatten (Flatten)            (None, 3136)              0         \n",
      "_________________________________________________________________\n",
      "dense (Dense)                (None, 256)               803072    \n",
      "=================================================================\n",
      "Total params: 840,640\n",
      "Trainable params: 840,640\n",
      "Non-trainable params: 0\n",
      "_________________________________________________________________\n",
      "Model: \"encoder1\"\n",
      "_________________________________________________________________\n",
      "Layer (type)                 Output Shape              Param #   \n",
      "=================================================================\n",
      "feature1_input (InputLayer)  [(None, 256)]             0         \n",
      "_________________________________________________________________\n",
      "dense_1 (Dense)              (None, 10)                2570      \n",
      "_________________________________________________________________\n",
      "activation (Activation)      (None, 10)                0         \n",
      "=================================================================\n",
      "Total params: 2,570\n",
      "Trainable params: 2,570\n",
      "Non-trainable params: 0\n",
      "_________________________________________________________________\n"
     ]
    }
   ],
   "source": [
    "def build_encoder():\n",
    "    feature1_dim=256\n",
    "    num_labels=10\n",
    "    inputs = [Input(shape=(28,28,1),name='ImageInput'),Input(shape=(feature1_dim,), name='feature1_input')]\n",
    "    kernel_size = 3\n",
    "    filters = 64\n",
    "    x, feature1 = inputs\n",
    "    y = Conv2D(filters=filters,kernel_size=kernel_size,padding='same',activation='relu')(x)\n",
    "    y = MaxPooling2D()(y)\n",
    "    y = Conv2D(filters=filters,kernel_size=kernel_size,padding='same',activation='relu')(y)\n",
    "    y = MaxPooling2D()(y)\n",
    "    y = Flatten()(y)\n",
    "    feature1_output = Dense(feature1_dim, activation='relu')(y)\n",
    "    enc0 = Model(inputs=x, outputs=feature1_output, name=\"encoder0\")\n",
    "    \n",
    "    \n",
    "    y = Dense(num_labels)(feature1)\n",
    "    labels = Activation('softmax')(y)\n",
    "    enc1 = Model(inputs=feature1, outputs=labels, name=\"encoder1\")\n",
    "    # return both enc0 and enc1\n",
    "    return enc0, enc1\n",
    "\n",
    "\n",
    "encoder0, encoder1 = build_encoder()\n",
    "encoder0.summary()\n",
    "encoder1.summary()"
   ]
  },
  {
   "cell_type": "code",
   "execution_count": 8,
   "metadata": {},
   "outputs": [],
   "source": [
    "from GAN.GAN.AttributeGAN import subStackedGAN"
   ]
  },
  {
   "cell_type": "markdown",
   "metadata": {},
   "source": [
    "#### Create GAN0"
   ]
  },
  {
   "cell_type": "code",
   "execution_count": 9,
   "metadata": {},
   "outputs": [
    {
     "name": "stdout",
     "output_type": "stream",
     "text": [
      "Model: \"generator0\"\n",
      "__________________________________________________________________________________________________\n",
      "Layer (type)                    Output Shape         Param #     Connected to                     \n",
      "==================================================================================================\n",
      "z0 (InputLayer)                 [(None, 50)]         0                                            \n",
      "__________________________________________________________________________________________________\n",
      "feature1Inpt (InputLayer)       [(None, 256)]        0                                            \n",
      "__________________________________________________________________________________________________\n",
      "concatenate (Concatenate)       (None, 306)          0           z0[0][0]                         \n",
      "                                                                 feature1Inpt[0][0]               \n",
      "__________________________________________________________________________________________________\n",
      "dense_2 (Dense)                 (None, 6272)         1925504     concatenate[0][0]                \n",
      "__________________________________________________________________________________________________\n",
      "reshape (Reshape)               (None, 7, 7, 128)    0           dense_2[0][0]                    \n",
      "__________________________________________________________________________________________________\n",
      "batch_normalization (BatchNorma (None, 7, 7, 128)    512         reshape[0][0]                    \n",
      "__________________________________________________________________________________________________\n",
      "activation_1 (Activation)       (None, 7, 7, 128)    0           batch_normalization[0][0]        \n",
      "__________________________________________________________________________________________________\n",
      "conv2d_transpose (Conv2DTranspo (None, 14, 14, 128)  409728      activation_1[0][0]               \n",
      "__________________________________________________________________________________________________\n",
      "activation_2 (Activation)       (None, 14, 14, 128)  0           conv2d_transpose[0][0]           \n",
      "__________________________________________________________________________________________________\n",
      "batch_normalization_1 (BatchNor (None, 14, 14, 128)  512         activation_2[0][0]               \n",
      "__________________________________________________________________________________________________\n",
      "activation_3 (Activation)       (None, 14, 14, 128)  0           batch_normalization_1[0][0]      \n",
      "__________________________________________________________________________________________________\n",
      "conv2d_transpose_1 (Conv2DTrans (None, 28, 28, 64)   204864      activation_3[0][0]               \n",
      "__________________________________________________________________________________________________\n",
      "activation_4 (Activation)       (None, 28, 28, 64)   0           conv2d_transpose_1[0][0]         \n",
      "__________________________________________________________________________________________________\n",
      "batch_normalization_2 (BatchNor (None, 28, 28, 64)   256         activation_4[0][0]               \n",
      "__________________________________________________________________________________________________\n",
      "activation_5 (Activation)       (None, 28, 28, 64)   0           batch_normalization_2[0][0]      \n",
      "__________________________________________________________________________________________________\n",
      "conv2d_transpose_2 (Conv2DTrans (None, 28, 28, 32)   51232       activation_5[0][0]               \n",
      "__________________________________________________________________________________________________\n",
      "activation_6 (Activation)       (None, 28, 28, 32)   0           conv2d_transpose_2[0][0]         \n",
      "__________________________________________________________________________________________________\n",
      "batch_normalization_3 (BatchNor (None, 28, 28, 32)   128         activation_6[0][0]               \n",
      "__________________________________________________________________________________________________\n",
      "activation_7 (Activation)       (None, 28, 28, 32)   0           batch_normalization_3[0][0]      \n",
      "__________________________________________________________________________________________________\n",
      "conv2d_transpose_3 (Conv2DTrans (None, 28, 28, 1)    801         activation_7[0][0]               \n",
      "__________________________________________________________________________________________________\n",
      "activation_8 (Activation)       (None, 28, 28, 1)    0           conv2d_transpose_3[0][0]         \n",
      "==================================================================================================\n",
      "Total params: 2,593,537\n",
      "Trainable params: 2,592,833\n",
      "Non-trainable params: 704\n",
      "__________________________________________________________________________________________________\n"
     ]
    }
   ],
   "source": [
    "def buildGen0():\n",
    "    activation='sigmoid'\n",
    "    kernel_size = 5\n",
    "    layer_filters = [128, 64, 32, 1]\n",
    "    inputs = [Input(shape=(50,),name=\"z0\"),Input(shape=(256,),name=\"feature1Inpt\")]\n",
    "    \n",
    "    x = concatenate(inputs, axis=1)\n",
    "    x = Dense(7 * 7 * layer_filters[0])(x)\n",
    "    x = Reshape((7, 7, layer_filters[0]))(x)\n",
    "\n",
    "    for filters in layer_filters:\n",
    "        if filters > layer_filters[-2]:\n",
    "            strides = 2\n",
    "        else:\n",
    "            strides = 1\n",
    "        x = BatchNormalization()(x)\n",
    "        x = Activation('relu')(x)\n",
    "        x = Conv2DTranspose(filters=filters, kernel_size=kernel_size,strides=strides,padding='same')(x)\n",
    "        x = Activation('sigmoid')(x)\n",
    "    return Model(inputs, x, name='generator0')\n",
    "\n",
    "\n",
    "generator0 = buildGen0()\n",
    "generator0.summary()"
   ]
  },
  {
   "cell_type": "code",
   "execution_count": 10,
   "metadata": {
    "scrolled": true
   },
   "outputs": [
    {
     "name": "stdout",
     "output_type": "stream",
     "text": [
      "Model: \"discriminator0\"\n",
      "__________________________________________________________________________________________________\n",
      "Layer (type)                    Output Shape         Param #     Connected to                     \n",
      "==================================================================================================\n",
      "discriminator0_input (InputLaye [(None, 28, 28, 1)]  0                                            \n",
      "__________________________________________________________________________________________________\n",
      "leaky_re_lu (LeakyReLU)         (None, 28, 28, 1)    0           discriminator0_input[0][0]       \n",
      "__________________________________________________________________________________________________\n",
      "conv2d_2 (Conv2D)               (None, 14, 14, 32)   832         leaky_re_lu[0][0]                \n",
      "__________________________________________________________________________________________________\n",
      "leaky_re_lu_1 (LeakyReLU)       (None, 14, 14, 32)   0           conv2d_2[0][0]                   \n",
      "__________________________________________________________________________________________________\n",
      "conv2d_3 (Conv2D)               (None, 7, 7, 64)     51264       leaky_re_lu_1[0][0]              \n",
      "__________________________________________________________________________________________________\n",
      "leaky_re_lu_2 (LeakyReLU)       (None, 7, 7, 64)     0           conv2d_3[0][0]                   \n",
      "__________________________________________________________________________________________________\n",
      "conv2d_4 (Conv2D)               (None, 4, 4, 128)    204928      leaky_re_lu_2[0][0]              \n",
      "__________________________________________________________________________________________________\n",
      "leaky_re_lu_3 (LeakyReLU)       (None, 4, 4, 128)    0           conv2d_4[0][0]                   \n",
      "__________________________________________________________________________________________________\n",
      "conv2d_5 (Conv2D)               (None, 4, 4, 256)    819456      leaky_re_lu_3[0][0]              \n",
      "__________________________________________________________________________________________________\n",
      "flatten_1 (Flatten)             (None, 4096)         0           conv2d_5[0][0]                   \n",
      "__________________________________________________________________________________________________\n",
      "dense_3 (Dense)                 (None, 1)            4097        flatten_1[0][0]                  \n",
      "__________________________________________________________________________________________________\n",
      "dense_4 (Dense)                 (None, 50)           204850      flatten_1[0][0]                  \n",
      "__________________________________________________________________________________________________\n",
      "activation_9 (Activation)       (None, 1)            0           dense_3[0][0]                    \n",
      "__________________________________________________________________________________________________\n",
      "z0 (Activation)                 (None, 50)           0           dense_4[0][0]                    \n",
      "==================================================================================================\n",
      "Total params: 1,285,427\n",
      "Trainable params: 1,285,427\n",
      "Non-trainable params: 0\n",
      "__________________________________________________________________________________________________\n"
     ]
    }
   ],
   "source": [
    "\n",
    "def discriminator0():\n",
    "    \"\"\"Discriminator0;\n",
    "    input: generrator0 outputs\"\"\"\n",
    "    kernel_size = 5\n",
    "    layer_filters = [32, 64, 128, 256]\n",
    "    inputs = Input(shape=(28,28,1), name='discriminator0_input')\n",
    "    x = inputs\n",
    "    for filters in layer_filters:\n",
    "        if filters == layer_filters[-1]:\n",
    "            strides = 1\n",
    "        else:\n",
    "            strides = 2\n",
    "        x = LeakyReLU(alpha=0.2)(x)\n",
    "        x = Conv2D(filters=filters,kernel_size=kernel_size,strides=strides,padding='same')(x)\n",
    "    x = Flatten()(x)\n",
    "    outputs = Dense(1)(x)\n",
    "    outputs = Activation('sigmoid')(outputs)\n",
    "    z0_recon =  Dense(50)(x)\n",
    "    z0_recon = Activation('tanh', name='z0')(z0_recon)\n",
    "    outputs = [outputs, z0_recon]\n",
    "\n",
    "    return Model(inputs, outputs, name='discriminator0')\n",
    "\n",
    "discriminator0 = discriminator0()\n",
    "discriminator0.summary()"
   ]
  },
  {
   "cell_type": "code",
   "execution_count": 11,
   "metadata": {},
   "outputs": [],
   "source": [
    "gan0 = subStackedGAN(generator=generator0,discriminator=discriminator0,encoder=encoder0,\n",
    "                     DiscrOptimizer=RMSprop(lr=1e-4, decay=3e-8),GanOptimizer=RMSprop(lr=2e-4, decay=6e-8),\n",
    "                     dis_loss_weights=[1.0, 10.0],adv_loss_weights=[1.0, 10.0, 1.0],\n",
    "                     dis_loss=['binary_crossentropy', 'mse'],adv_loss=['binary_crossentropy', 'mse', 'mse'])"
   ]
  },
  {
   "cell_type": "markdown",
   "metadata": {},
   "source": [
    "#### Create GAN1\n"
   ]
  },
  {
   "cell_type": "code",
   "execution_count": 12,
   "metadata": {},
   "outputs": [
    {
     "name": "stdout",
     "output_type": "stream",
     "text": [
      "Model: \"generator1\"\n",
      "__________________________________________________________________________________________________\n",
      "Layer (type)                    Output Shape         Param #     Connected to                     \n",
      "==================================================================================================\n",
      "z1 (InputLayer)                 [(None, 50)]         0                                            \n",
      "__________________________________________________________________________________________________\n",
      "label (InputLayer)              [(None, 10)]         0                                            \n",
      "__________________________________________________________________________________________________\n",
      "concatenate_1 (Concatenate)     (None, 60)           0           z1[0][0]                         \n",
      "                                                                 label[0][0]                      \n",
      "__________________________________________________________________________________________________\n",
      "dense_5 (Dense)                 (None, 512)          31232       concatenate_1[0][0]              \n",
      "__________________________________________________________________________________________________\n",
      "batch_normalization_4 (BatchNor (None, 512)          2048        dense_5[0][0]                    \n",
      "__________________________________________________________________________________________________\n",
      "dense_6 (Dense)                 (None, 512)          262656      batch_normalization_4[0][0]      \n",
      "__________________________________________________________________________________________________\n",
      "batch_normalization_5 (BatchNor (None, 512)          2048        dense_6[0][0]                    \n",
      "__________________________________________________________________________________________________\n",
      "outputGen1 (Dense)              (None, 256)          131328      batch_normalization_5[0][0]      \n",
      "==================================================================================================\n",
      "Total params: 429,312\n",
      "Trainable params: 427,264\n",
      "Non-trainable params: 2,048\n",
      "__________________________________________________________________________________________________\n"
     ]
    }
   ],
   "source": [
    "def buildGen1():\n",
    "    inputs = [Input(shape=(50,),name=\"z1\"),Input(shape=(10,),name=\"label\")]\n",
    "    x = concatenate(inputs, axis=1)\n",
    "    x = Dense(512, activation='relu')(x)\n",
    "    x = BatchNormalization()(x)\n",
    "    x = Dense(512, activation='relu')(x)\n",
    "    x = BatchNormalization()(x)\n",
    "    fake_feature1 = Dense(256, activation='relu',name=\"outputGen1\")(x)\n",
    "    gen1 = Model(inputs, fake_feature1, name='generator1')\n",
    "    return gen1\n",
    "\n",
    "\n",
    "generator1 = buildGen1()\n",
    "generator1.summary()"
   ]
  },
  {
   "cell_type": "code",
   "execution_count": 13,
   "metadata": {},
   "outputs": [
    {
     "name": "stdout",
     "output_type": "stream",
     "text": [
      "Model: \"discriminator1\"\n",
      "__________________________________________________________________________________________________\n",
      "Layer (type)                    Output Shape         Param #     Connected to                     \n",
      "==================================================================================================\n",
      "feature1 (InputLayer)           [(None, 256)]        0                                            \n",
      "__________________________________________________________________________________________________\n",
      "dense_7 (Dense)                 (None, 256)          65792       feature1[0][0]                   \n",
      "__________________________________________________________________________________________________\n",
      "dense_8 (Dense)                 (None, 256)          65792       dense_7[0][0]                    \n",
      "__________________________________________________________________________________________________\n",
      "dense_9 (Dense)                 (None, 1)            257         dense_8[0][0]                    \n",
      "__________________________________________________________________________________________________\n",
      "dense_10 (Dense)                (None, 50)           12850       dense_8[0][0]                    \n",
      "__________________________________________________________________________________________________\n",
      "feature1_source (Activation)    (None, 1)            0           dense_9[0][0]                    \n",
      "__________________________________________________________________________________________________\n",
      "z1_estimation (Activation)      (None, 50)           0           dense_10[0][0]                   \n",
      "==================================================================================================\n",
      "Total params: 144,691\n",
      "Trainable params: 144,691\n",
      "Non-trainable params: 0\n",
      "__________________________________________________________________________________________________\n"
     ]
    }
   ],
   "source": [
    "def discriminator1():\n",
    "    inputs = Input(shape=(256,),name=\"feature1\")\n",
    "    x = Dense(256, activation='relu')(inputs)\n",
    "    x = Dense(256, activation='relu')(x)\n",
    "    f1_source = Dense(1)(x)\n",
    "    f1_source = Activation('sigmoid', name='feature1_source')(f1_source)\n",
    "    z1_recon = Dense(50)(x) \n",
    "    z1_recon = Activation('tanh', name='z1_estimation')(z1_recon)\n",
    "    \n",
    "    discriminator_outputs = [f1_source, z1_recon]\n",
    "    dis1 = Model(inputs, discriminator_outputs, name='discriminator1')\n",
    "    return dis1\n",
    "\n",
    "discriminator1 = discriminator1()\n",
    "discriminator1.summary()"
   ]
  },
  {
   "cell_type": "code",
   "execution_count": 14,
   "metadata": {},
   "outputs": [],
   "source": [
    "gan1 = subStackedGAN(generator=generator1,discriminator=discriminator1,encoder=encoder1,\n",
    "                     DiscrOptimizer=RMSprop(lr=1e-4, decay=3e-8),GanOptimizer=RMSprop(lr=2e-4, decay=6e-8),\n",
    "                     dis_loss_weights=[1.0, 10.0],adv_loss_weights=[1.0, 10.0, 1.0],\n",
    "                     dis_loss=['binary_crossentropy', 'mse'],adv_loss=['binary_crossentropy', 'mse', 'mse'])"
   ]
  },
  {
   "cell_type": "markdown",
   "metadata": {},
   "source": [
    "#### Create the stacked"
   ]
  },
  {
   "cell_type": "code",
   "execution_count": 15,
   "metadata": {},
   "outputs": [],
   "source": [
    "from GAN.GAN.AttributeGAN import StackedGAN"
   ]
  },
  {
   "cell_type": "code",
   "execution_count": 16,
   "metadata": {},
   "outputs": [],
   "source": [
    "StGAN = StackedGAN(gan0,gan1)\n",
    "StGAN.generateBatchEval()"
   ]
  },
  {
   "cell_type": "markdown",
   "metadata": {},
   "source": [
    "## Train the encoder"
   ]
  },
  {
   "cell_type": "code",
   "execution_count": 17,
   "metadata": {},
   "outputs": [
    {
     "name": "stdout",
     "output_type": "stream",
     "text": [
      "Encoder Trainig\n",
      "Train on 60000 samples, validate on 10000 samples\n",
      "Epoch 1/10\n",
      "60000/60000 [==============================] - 7s 124us/sample - loss: 0.5154 - accuracy: 0.8589 - val_loss: 0.1377 - val_accuracy: 0.9596\n",
      "Epoch 2/10\n",
      "60000/60000 [==============================] - 5s 82us/sample - loss: 0.1050 - accuracy: 0.9689 - val_loss: 0.0647 - val_accuracy: 0.9798\n",
      "Epoch 3/10\n",
      "60000/60000 [==============================] - 5s 85us/sample - loss: 0.0639 - accuracy: 0.9810 - val_loss: 0.0487 - val_accuracy: 0.9850\n",
      "Epoch 4/10\n",
      "60000/60000 [==============================] - 5s 87us/sample - loss: 0.0492 - accuracy: 0.9853 - val_loss: 0.0413 - val_accuracy: 0.9850\n",
      "Epoch 5/10\n",
      "60000/60000 [==============================] - 5s 90us/sample - loss: 0.0405 - accuracy: 0.9875 - val_loss: 0.0342 - val_accuracy: 0.9883\n",
      "Epoch 6/10\n",
      "60000/60000 [==============================] - 5s 91us/sample - loss: 0.0356 - accuracy: 0.9892 - val_loss: 0.0319 - val_accuracy: 0.9879\n",
      "Epoch 7/10\n",
      "60000/60000 [==============================] - 5s 92us/sample - loss: 0.0301 - accuracy: 0.9906 - val_loss: 0.0298 - val_accuracy: 0.9894\n",
      "Epoch 8/10\n",
      "60000/60000 [==============================] - 5s 92us/sample - loss: 0.0248 - accuracy: 0.9929 - val_loss: 0.0297 - val_accuracy: 0.9901\n",
      "Epoch 9/10\n",
      "60000/60000 [==============================] - 5s 91us/sample - loss: 0.0219 - accuracy: 0.9934 - val_loss: 0.0297 - val_accuracy: 0.9903\n",
      "Epoch 10/10\n",
      "60000/60000 [==============================] - 6s 92us/sample - loss: 0.0183 - accuracy: 0.9943 - val_loss: 0.0295 - val_accuracy: 0.9901\n"
     ]
    }
   ],
   "source": [
    "StGAN.trainencoder(xtr=xtr,ytr=ytr,epochs=10,batchsize=1024,validation_data=(xtest,ytest))"
   ]
  },
  {
   "cell_type": "code",
   "execution_count": 18,
   "metadata": {
    "scrolled": false
   },
   "outputs": [
    {
     "name": "stdout",
     "output_type": "stream",
     "text": [
      "Epoch 1/30\n",
      "117/117 [==============================] - 147s 1s/step\n",
      "{'Gan0': {'loss': 2.5754649639129634, 'activation_9_loss': 0.061119561264705316, 'z0_loss': 0.25143454051934755, 'activation_9_accuracy': 0.9979467147435886, 'z0_accuracy': 0.020332532051282017}, 'Gan1': {'loss': 0, 'feature1_source_loss': 0, 'z1_estimation_loss': 0, 'feature1_source_accuracy': 0, 'z1_estimation_accuracy': 0}}\n",
      "{'Gan0': {'loss': 3.006206072293796, 'discriminator0_loss': 0.08027728326105252, 'discriminator0_1_loss': 0.2512132250345671, 'encoder0_loss': 0.41379653465034627, 'discriminator0_accuracy': 0.943175747863247, 'discriminator0_1_accuracy': 0.022335737179487142, 'encoder0_accuracy': 0.5721487713675213}, 'Gan1': {'loss': 0, 'discriminator1_loss': 0, 'discriminator1_1_loss': 0, 'encoder1_loss': 0, 'discriminator1_accuracy': 0, 'discriminator1_1_accuracy': 0, 'encoder1_accuracy': 0}}\n",
      "Epoch 2/30\n",
      "117/117 [==============================] - 145s 1s/step\n",
      "{'Gan0': {'loss': 2.50703418152964, 'activation_9_loss': 0.0020774633824650166, 'z0_loss': 0.25049567171651066, 'activation_9_accuracy': 0.9999916533119647, 'z0_accuracy': 0.02108373397435894}, 'Gan1': {'loss': 0, 'feature1_source_loss': 0, 'z1_estimation_loss': 0, 'feature1_source_accuracy': 0, 'z1_estimation_accuracy': 0}}\n",
      "{'Gan0': {'loss': 2.6604619066939397, 'discriminator0_loss': 0.0038592811297271084, 'discriminator0_1_loss': 0.2497661723795099, 'encoder0_loss': 0.15894090543445366, 'discriminator0_accuracy': 0.9999999999999989, 'discriminator0_1_accuracy': 0.023788060897435848, 'encoder0_accuracy': 0.6911224626068376}, 'Gan1': {'loss': 0, 'discriminator1_loss': 0, 'discriminator1_1_loss': 0, 'encoder1_loss': 0, 'discriminator1_accuracy': 0, 'discriminator1_1_accuracy': 0, 'encoder1_accuracy': 0}}\n",
      "Epoch 3/30\n",
      "117/117 [==============================] - 146s 1s/step\n",
      "{'Gan0': {'loss': 2.507580092829516, 'activation_9_loss': 0.0013506677326085605, 'z0_loss': 0.2506229421521862, 'activation_9_accuracy': 0.9999833066239305, 'z0_accuracy': 0.021450988247863213}, 'Gan1': {'loss': 0, 'feature1_source_loss': 0, 'z1_estimation_loss': 0, 'feature1_source_accuracy': 0, 'z1_estimation_accuracy': 0}}\n",
      "{'Gan0': {'loss': 2.6194367979326825, 'discriminator0_loss': 0.0027173094582767813, 'discriminator0_1_loss': 0.24969712523823118, 'encoder0_loss': 0.1197482398432544, 'discriminator0_accuracy': 0.9999999999999989, 'discriminator0_1_accuracy': 0.02630876068376064, 'encoder0_accuracy': 0.7217548076923079}, 'Gan1': {'loss': 0, 'discriminator1_loss': 0, 'discriminator1_1_loss': 0, 'encoder1_loss': 0, 'discriminator1_accuracy': 0, 'discriminator1_1_accuracy': 0, 'encoder1_accuracy': 0}}\n",
      "Epoch 4/30\n",
      "117/117 [==============================] - 146s 1s/step\n",
      "{'Gan0': {'loss': 2.4998998091771054, 'activation_9_loss': 0.00993366294110624, 'z0_loss': 0.24899661439096826, 'activation_9_accuracy': 0.9969284188034182, 'z0_accuracy': 0.029054821047008496}, 'Gan1': {'loss': 0, 'feature1_source_loss': 0, 'z1_estimation_loss': 0, 'feature1_source_accuracy': 0, 'z1_estimation_accuracy': 0}}\n",
      "{'Gan0': {'loss': 2.5941584538190803, 'discriminator0_loss': 0.012955584192831857, 'discriminator0_1_loss': 0.24709647753809255, 'encoder0_loss': 0.11023809174951323, 'discriminator0_accuracy': 0.9970285790598281, 'discriminator0_1_accuracy': 0.037459935897435834, 'encoder0_accuracy': 0.7347255608974357}, 'Gan1': {'loss': 0, 'discriminator1_loss': 0, 'discriminator1_1_loss': 0, 'encoder1_loss': 0, 'discriminator1_accuracy': 0, 'discriminator1_1_accuracy': 0, 'encoder1_accuracy': 0}}\n",
      "Epoch 5/30\n",
      "117/117 [==============================] - 147s 1s/step\n",
      "{'Gan0': {'loss': 2.589339890031733, 'activation_9_loss': 0.11437158344679663, 'z0_loss': 0.24749683213030169, 'activation_9_accuracy': 0.9630992922008541, 'z0_accuracy': 0.03535657051282047}, 'Gan1': {'loss': 0, 'feature1_source_loss': 0, 'z1_estimation_loss': 0, 'feature1_source_accuracy': 0, 'z1_estimation_accuracy': 0}}\n",
      "{'Gan0': {'loss': 2.6732724955958194, 'discriminator0_loss': 0.08730514631986062, 'discriminator0_1_loss': 0.2433085771452667, 'encoder0_loss': 0.15288155303042153, 'discriminator0_accuracy': 0.9678819444444435, 'discriminator0_1_accuracy': 0.047709668803418724, 'encoder0_accuracy': 0.7017895299145299}, 'Gan1': {'loss': 0, 'discriminator1_loss': 0, 'discriminator1_1_loss': 0, 'encoder1_loss': 0, 'discriminator1_accuracy': 0, 'discriminator1_1_accuracy': 0, 'encoder1_accuracy': 0}}\n",
      "Epoch 6/30\n",
      "117/117 [==============================] - 148s 1s/step\n",
      "{'Gan0': {'loss': 2.9422015532469143, 'activation_9_loss': 0.48334690024200655, 'z0_loss': 0.24588546615380505, 'activation_9_accuracy': 0.7508346688034188, 'z0_accuracy': 0.04001402243589739}, 'Gan1': {'loss': 0, 'feature1_source_loss': 0, 'z1_estimation_loss': 0, 'feature1_source_accuracy': 0, 'z1_estimation_accuracy': 0}}\n",
      "{'Gan0': {'loss': 2.7208350805135875, 'discriminator0_loss': 0.10391799930948767, 'discriminator0_1_loss': 0.2438668886311034, 'encoder0_loss': 0.17824818270328718, 'discriminator0_accuracy': 0.9881310096153841, 'discriminator0_1_accuracy': 0.04704193376068366, 'encoder0_accuracy': 0.6714576655982906}, 'Gan1': {'loss': 0, 'discriminator1_loss': 0, 'discriminator1_1_loss': 0, 'encoder1_loss': 0, 'discriminator1_accuracy': 0, 'discriminator1_1_accuracy': 0, 'encoder1_accuracy': 0}}\n",
      "Epoch 7/30\n",
      "117/117 [==============================] - 150s 1s/step\n",
      "{'Gan0': {'loss': 2.991928306400266, 'activation_9_loss': 0.552865307300519, 'z0_loss': 0.2439062991458126, 'activation_9_accuracy': 0.6807642227564101, 'z0_accuracy': 0.04138287927350423}, 'Gan1': {'loss': 0, 'feature1_source_loss': 0, 'z1_estimation_loss': 0, 'feature1_source_accuracy': 0, 'z1_estimation_accuracy': 0}}\n",
      "{'Gan0': {'loss': 2.78727777595194, 'discriminator0_loss': 0.1738650791474387, 'discriminator0_1_loss': 0.24332849375712562, 'encoder0_loss': 0.18012776868975056, 'discriminator0_accuracy': 0.9908353365384616, 'discriminator0_1_accuracy': 0.04709201388888879, 'encoder0_accuracy': 0.6622763087606838}, 'Gan1': {'loss': 0, 'discriminator1_loss': 0, 'discriminator1_1_loss': 0, 'encoder1_loss': 0, 'discriminator1_accuracy': 0, 'discriminator1_1_accuracy': 0, 'encoder1_accuracy': 0}}\n",
      "Epoch 8/30\n",
      "117/117 [==============================] - 149s 1s/step\n",
      "{'Gan0': {'loss': 2.997265047497219, 'activation_9_loss': 0.5788879088866404, 'z0_loss': 0.24183771510918933, 'activation_9_accuracy': 0.6720753205128208, 'z0_accuracy': 0.04690838675213672}, 'Gan1': {'loss': 0, 'feature1_source_loss': 0, 'z1_estimation_loss': 0, 'feature1_source_accuracy': 0, 'z1_estimation_accuracy': 0}}\n",
      "{'Gan0': {'loss': 2.8198938451261606, 'discriminator0_loss': 0.22991384400261775, 'discriminator0_1_loss': 0.24039286234949392, 'encoder0_loss': 0.18605138437870217, 'discriminator0_accuracy': 0.9760783920940166, 'discriminator0_1_accuracy': 0.05109842414529905, 'encoder0_accuracy': 0.6654814369658119}, 'Gan1': {'loss': 0, 'discriminator1_loss': 0, 'discriminator1_1_loss': 0, 'encoder1_loss': 0, 'discriminator1_accuracy': 0, 'discriminator1_1_accuracy': 0, 'encoder1_accuracy': 0}}\n",
      "Epoch 9/30\n",
      "117/117 [==============================] - 149s 1s/step\n",
      "{'Gan0': {'loss': 2.9791207170894, 'activation_9_loss': 0.5867842132719153, 'z0_loss': 0.23923365287801132, 'activation_9_accuracy': 0.6672759748931623, 'z0_accuracy': 0.052292000534188005}, 'Gan1': {'loss': 0, 'feature1_source_loss': 0, 'z1_estimation_loss': 0, 'feature1_source_accuracy': 0, 'z1_estimation_accuracy': 0}}\n",
      "{'Gan0': {'loss': 2.8251485498542452, 'discriminator0_loss': 0.27062500147228563, 'discriminator0_1_loss': 0.23625671545155025, 'encoder0_loss': 0.19195639679574547, 'discriminator0_accuracy': 0.9527243589743585, 'discriminator0_1_accuracy': 0.062416533119658016, 'encoder0_accuracy': 0.6694878472222222}, 'Gan1': {'loss': 0, 'discriminator1_loss': 0, 'discriminator1_1_loss': 0, 'encoder1_loss': 0, 'discriminator1_accuracy': 0, 'discriminator1_1_accuracy': 0, 'encoder1_accuracy': 0}}\n",
      "Epoch 10/30\n",
      "117/117 [==============================] - 153s 1s/step\n",
      "{'Gan0': {'loss': 2.9285771133553267, 'activation_9_loss': 0.5615476739202808, 'z0_loss': 0.23670294486049917, 'activation_9_accuracy': 0.6927500667735037, 'z0_accuracy': 0.05758380074786323}, 'Gan1': {'loss': 0, 'feature1_source_loss': 0, 'z1_estimation_loss': 0, 'feature1_source_accuracy': 0, 'z1_estimation_accuracy': 0}}\n",
      "{'Gan0': {'loss': 2.7717339381193504, 'discriminator0_loss': 0.27095780292382604, 'discriminator0_1_loss': 0.2314559087539331, 'encoder0_loss': 0.18621705612565712, 'discriminator0_accuracy': 0.941473023504273, 'discriminator0_1_accuracy': 0.0752704326923076, 'encoder0_accuracy': 0.6769330929487175}, 'Gan1': {'loss': 0, 'discriminator1_loss': 0, 'discriminator1_1_loss': 0, 'encoder1_loss': 0, 'discriminator1_accuracy': 0, 'discriminator1_1_accuracy': 0, 'encoder1_accuracy': 0}}\n",
      "Epoch 11/30\n"
     ]
    },
    {
     "name": "stdout",
     "output_type": "stream",
     "text": [
      "117/117 [==============================] - 153s 1s/step\n",
      "{'Gan0': {'loss': 2.9045038019490037, 'activation_9_loss': 0.5592795508539572, 'z0_loss': 0.23452242533875325, 'activation_9_accuracy': 0.6956881009615387, 'z0_accuracy': 0.06426949786324787}, 'Gan1': {'loss': 0, 'feature1_source_loss': 0, 'z1_estimation_loss': 0, 'feature1_source_accuracy': 0, 'z1_estimation_accuracy': 0}}\n",
      "{'Gan0': {'loss': 2.727297548554903, 'discriminator0_loss': 0.2809697040635296, 'discriminator0_1_loss': 0.22644711190309277, 'encoder0_loss': 0.18185672571516442, 'discriminator0_accuracy': 0.9225928151709399, 'discriminator0_1_accuracy': 0.08465211004273498, 'encoder0_accuracy': 0.678952991452991}, 'Gan1': {'loss': 0, 'discriminator1_loss': 0, 'discriminator1_1_loss': 0, 'encoder1_loss': 0, 'discriminator1_accuracy': 0, 'discriminator1_1_accuracy': 0, 'encoder1_accuracy': 0}}\n",
      "Epoch 12/30\n",
      "117/117 [==============================] - 151s 1s/step\n",
      "{'Gan0': {'loss': 2.8866503401699224, 'activation_9_loss': 0.5522483217919997, 'z0_loss': 0.2334402030349797, 'activation_9_accuracy': 0.7015975560897438, 'z0_accuracy': 0.0660473424145299}, 'Gan1': {'loss': 0, 'feature1_source_loss': 0, 'z1_estimation_loss': 0, 'feature1_source_accuracy': 0, 'z1_estimation_accuracy': 0}}\n",
      "{'Gan0': {'loss': 2.691876317700769, 'discriminator0_loss': 0.2867688216332695, 'discriminator0_1_loss': 0.22219075262546548, 'encoder0_loss': 0.18319998273992136, 'discriminator0_accuracy': 0.9190204326923078, 'discriminator0_1_accuracy': 0.09810697115384608, 'encoder0_accuracy': 0.6747796474358972}, 'Gan1': {'loss': 0, 'discriminator1_loss': 0, 'discriminator1_1_loss': 0, 'encoder1_loss': 0, 'discriminator1_accuracy': 0, 'discriminator1_1_accuracy': 0, 'encoder1_accuracy': 0}}\n",
      "Epoch 13/30\n",
      "117/117 [==============================] - 149s 1s/step\n",
      "{'Gan0': {'loss': 2.8495805834093675, 'activation_9_loss': 0.5297194237892443, 'z0_loss': 0.23198611588559592, 'activation_9_accuracy': 0.7233907585470084, 'z0_accuracy': 0.07291666666666663}, 'Gan1': {'loss': 0, 'feature1_source_loss': 0, 'z1_estimation_loss': 0, 'feature1_source_accuracy': 0, 'z1_estimation_accuracy': 0}}\n",
      "{'Gan0': {'loss': 2.625382700537006, 'discriminator0_loss': 0.2779086850519872, 'discriminator0_1_loss': 0.21631416831261074, 'encoder0_loss': 0.18433233955477032, 'discriminator0_accuracy': 0.9194711538461541, 'discriminator0_1_accuracy': 0.10927483974358974, 'encoder0_accuracy': 0.6738114316239313}, 'Gan1': {'loss': 0, 'discriminator1_loss': 0, 'discriminator1_1_loss': 0, 'encoder1_loss': 0, 'discriminator1_accuracy': 0, 'discriminator1_1_accuracy': 0, 'encoder1_accuracy': 0}}\n",
      "Epoch 14/30\n",
      "117/117 [==============================] - 149s 1s/step\n",
      "{'Gan0': {'loss': 2.8251589811765223, 'activation_9_loss': 0.5189593281501381, 'z0_loss': 0.23061996621963302, 'activation_9_accuracy': 0.7303852831196581, 'z0_accuracy': 0.07416866987179485}, 'Gan1': {'loss': 0, 'feature1_source_loss': 0, 'z1_estimation_loss': 0, 'feature1_source_accuracy': 0, 'z1_estimation_accuracy': 0}}\n",
      "{'Gan0': {'loss': 2.576432309599003, 'discriminator0_loss': 0.2740250137817656, 'discriminator0_1_loss': 0.21170720738223475, 'encoder0_loss': 0.18533523317076198, 'discriminator0_accuracy': 0.9182191506410255, 'discriminator0_1_accuracy': 0.11959134615384613, 'encoder0_accuracy': 0.6721587873931626}, 'Gan1': {'loss': 0, 'discriminator1_loss': 0, 'discriminator1_1_loss': 0, 'encoder1_loss': 0, 'discriminator1_accuracy': 0, 'discriminator1_1_accuracy': 0, 'encoder1_accuracy': 0}}\n",
      "Epoch 15/30\n",
      "117/117 [==============================] - 152s 1s/step\n",
      "{'Gan0': {'loss': 2.826851172324938, 'activation_9_loss': 0.5284750026005964, 'z0_loss': 0.22983761755829182, 'activation_9_accuracy': 0.7180071447649572, 'z0_accuracy': 0.07805822649572645}, 'Gan1': {'loss': 0, 'feature1_source_loss': 0, 'z1_estimation_loss': 0, 'feature1_source_accuracy': 0, 'z1_estimation_accuracy': 0}}\n",
      "{'Gan0': {'loss': 2.5580490450573783, 'discriminator0_loss': 0.2911255867180658, 'discriminator0_1_loss': 0.20819235854169243, 'encoder0_loss': 0.184999878717284, 'discriminator0_accuracy': 0.9071514423076922, 'discriminator0_1_accuracy': 0.12880608974358973, 'encoder0_accuracy': 0.6719083867521372}, 'Gan1': {'loss': 0, 'discriminator1_loss': 0, 'discriminator1_1_loss': 0, 'encoder1_loss': 0, 'discriminator1_accuracy': 0, 'discriminator1_1_accuracy': 0, 'encoder1_accuracy': 0}}\n",
      "Epoch 16/30\n",
      "117/117 [==============================] - 149s 1s/step\n",
      "{'Gan0': {'loss': 2.827160849530472, 'activation_9_loss': 0.5374669134616852, 'z0_loss': 0.22896939414179227, 'activation_9_accuracy': 0.7072315705128208, 'z0_accuracy': 0.08150540865384609}, 'Gan1': {'loss': 0, 'feature1_source_loss': 0, 'z1_estimation_loss': 0, 'feature1_source_accuracy': 0, 'z1_estimation_accuracy': 0}}\n",
      "{'Gan0': {'loss': 2.5376964165614218, 'discriminator0_loss': 0.3048694669945627, 'discriminator0_1_loss': 0.20479439810300493, 'encoder0_loss': 0.18488296127726897, 'discriminator0_accuracy': 0.8964176014957259, 'discriminator0_1_accuracy': 0.1361678685897436, 'encoder0_accuracy': 0.6716412927350427}, 'Gan1': {'loss': 0, 'discriminator1_loss': 0, 'discriminator1_1_loss': 0, 'encoder1_loss': 0, 'discriminator1_accuracy': 0, 'discriminator1_1_accuracy': 0, 'encoder1_accuracy': 0}}\n",
      "Epoch 17/30\n",
      "117/117 [==============================] - 155s 1s/step\n",
      "{'Gan0': {'loss': 2.803214845494327, 'activation_9_loss': 0.5337121025619345, 'z0_loss': 0.2269502736819096, 'activation_9_accuracy': 0.710002670940171, 'z0_accuracy': 0.08650507478632478}, 'Gan1': {'loss': 0, 'feature1_source_loss': 0, 'z1_estimation_loss': 0, 'feature1_source_accuracy': 0, 'z1_estimation_accuracy': 0}}\n",
      "{'Gan0': {'loss': 2.5184143547318927, 'discriminator0_loss': 0.32396766505180263, 'discriminator0_1_loss': 0.20154471988351946, 'encoder0_loss': 0.17899948447688013, 'discriminator0_accuracy': 0.884598691239316, 'discriminator0_1_accuracy': 0.1432625534188034, 'encoder0_accuracy': 0.6744457799145303}, 'Gan1': {'loss': 0, 'discriminator1_loss': 0, 'discriminator1_1_loss': 0, 'encoder1_loss': 0, 'discriminator1_accuracy': 0, 'discriminator1_1_accuracy': 0, 'encoder1_accuracy': 0}}\n",
      "Epoch 18/30\n",
      "117/117 [==============================] - 150s 1s/step\n",
      "{'Gan0': {'loss': 2.795424534724307, 'activation_9_loss': 0.541675379897794, 'z0_loss': 0.22537491604303697, 'activation_9_accuracy': 0.7028912927350431, 'z0_accuracy': 0.09043636485042732}, 'Gan1': {'loss': 0, 'feature1_source_loss': 0, 'z1_estimation_loss': 0, 'feature1_source_accuracy': 0, 'z1_estimation_accuracy': 0}}\n",
      "{'Gan0': {'loss': 2.495018832703941, 'discriminator0_loss': 0.3388465585616918, 'discriminator0_1_loss': 0.19825943845968977, 'encoder0_loss': 0.17357789336616167, 'discriminator0_accuracy': 0.8730969551282053, 'discriminator0_1_accuracy': 0.15022369123931623, 'encoder0_accuracy': 0.6783854166666666}, 'Gan1': {'loss': 0, 'discriminator1_loss': 0, 'discriminator1_1_loss': 0, 'encoder1_loss': 0, 'discriminator1_accuracy': 0, 'discriminator1_1_accuracy': 0, 'encoder1_accuracy': 0}}\n",
      "Epoch 19/30\n",
      "117/117 [==============================] - 154s 1s/step\n",
      "{'Gan0': {'loss': 2.7842702885978237, 'activation_9_loss': 0.5456249015962973, 'z0_loss': 0.22386453905676165, 'activation_9_accuracy': 0.7019981971153846, 'z0_accuracy': 0.09441773504273497}, 'Gan1': {'loss': 0, 'feature1_source_loss': 0, 'z1_estimation_loss': 0, 'feature1_source_accuracy': 0, 'z1_estimation_accuracy': 0}}\n",
      "{'Gan0': {'loss': 2.4712986721951746, 'discriminator0_loss': 0.35285855918867964, 'discriminator0_1_loss': 0.19472567214925057, 'encoder0_loss': 0.17118340514154512, 'discriminator0_accuracy': 0.8640658386752136, 'discriminator0_1_accuracy': 0.16080729166666655, 'encoder0_accuracy': 0.6785022702991453}, 'Gan1': {'loss': 0, 'discriminator1_loss': 0, 'discriminator1_1_loss': 0, 'encoder1_loss': 0, 'discriminator1_accuracy': 0, 'discriminator1_1_accuracy': 0, 'encoder1_accuracy': 0}}\n",
      "Epoch 20/30\n",
      "117/117 [==============================] - 150s 1s/step\n",
      "{'Gan0': {'loss': 2.7877581649356413, 'activation_9_loss': 0.5596251961512445, 'z0_loss': 0.22281329626711005, 'activation_9_accuracy': 0.6880174946581199, 'z0_accuracy': 0.09793169070512815}, 'Gan1': {'loss': 0, 'feature1_source_loss': 0, 'z1_estimation_loss': 0, 'feature1_source_accuracy': 0, 'z1_estimation_accuracy': 0}}\n",
      "{'Gan0': {'loss': 2.458050589276176, 'discriminator0_loss': 0.36867244713581515, 'discriminator0_1_loss': 0.19186788020480394, 'encoder0_loss': 0.17069933506158688, 'discriminator0_accuracy': 0.8512119391025648, 'discriminator0_1_accuracy': 0.16359508547008544, 'encoder0_accuracy': 0.6820412660256411}, 'Gan1': {'loss': 0, 'discriminator1_loss': 0, 'discriminator1_1_loss': 0, 'encoder1_loss': 0, 'discriminator1_accuracy': 0, 'discriminator1_1_accuracy': 0, 'encoder1_accuracy': 0}}\n",
      "Epoch 21/30\n"
     ]
    },
    {
     "name": "stdout",
     "output_type": "stream",
     "text": [
      "117/117 [==============================] - 148s 1s/step\n",
      "{'Gan0': {'loss': 2.7883905182536854, 'activation_9_loss': 0.5661210680109822, 'z0_loss': 0.2222269461450414, 'activation_9_accuracy': 0.6860727163461535, 'z0_accuracy': 0.10214676816239307}, 'Gan1': {'loss': 0, 'feature1_source_loss': 0, 'z1_estimation_loss': 0, 'feature1_source_accuracy': 0, 'z1_estimation_accuracy': 0}}\n",
      "{'Gan0': {'loss': 2.4400583271287446, 'discriminator0_loss': 0.38205365671051883, 'discriminator0_1_loss': 0.18824475939966676, 'encoder0_loss': 0.17555707311018912, 'discriminator0_accuracy': 0.8454026442307696, 'discriminator0_1_accuracy': 0.1692875267094016, 'encoder0_accuracy': 0.6794204059829059}, 'Gan1': {'loss': 0, 'discriminator1_loss': 0, 'discriminator1_1_loss': 0, 'encoder1_loss': 0, 'discriminator1_accuracy': 0, 'discriminator1_1_accuracy': 0, 'encoder1_accuracy': 0}}\n",
      "Epoch 22/30\n",
      "117/117 [==============================] - 155s 1s/step\n",
      "{'Gan0': {'loss': 2.783001966965504, 'activation_9_loss': 0.5641045929529728, 'z0_loss': 0.22188973872580073, 'activation_9_accuracy': 0.6902210202991453, 'z0_accuracy': 0.10378271901709395}, 'Gan1': {'loss': 0, 'feature1_source_loss': 0, 'z1_estimation_loss': 0, 'feature1_source_accuracy': 0, 'z1_estimation_accuracy': 0}}\n",
      "{'Gan0': {'loss': 2.419363885863214, 'discriminator0_loss': 0.38411188762412113, 'discriminator0_1_loss': 0.18533098124540762, 'encoder0_loss': 0.18194220246922263, 'discriminator0_accuracy': 0.8446514423076924, 'discriminator0_1_accuracy': 0.1757311698717948, 'encoder0_accuracy': 0.671440972222222}, 'Gan1': {'loss': 0, 'discriminator1_loss': 0, 'discriminator1_1_loss': 0, 'encoder1_loss': 0, 'discriminator1_accuracy': 0, 'discriminator1_1_accuracy': 0, 'encoder1_accuracy': 0}}\n",
      "Epoch 23/30\n",
      "117/117 [==============================] - 154s 1s/step\n",
      "{'Gan0': {'loss': 2.7374724710089535, 'activation_9_loss': 0.5347837984052481, 'z0_loss': 0.22026886784622815, 'activation_9_accuracy': 0.7231570512820512, 'z0_accuracy': 0.10667067307692302}, 'Gan1': {'loss': 0, 'feature1_source_loss': 0, 'z1_estimation_loss': 0, 'feature1_source_accuracy': 0, 'z1_estimation_accuracy': 0}}\n",
      "{'Gan0': {'loss': 2.361262294981215, 'discriminator0_loss': 0.36382348536171455, 'discriminator0_1_loss': 0.18130472302436826, 'encoder0_loss': 0.1843915765102093, 'discriminator0_accuracy': 0.8582231570512818, 'discriminator0_1_accuracy': 0.184795673076923, 'encoder0_accuracy': 0.6762653579059826}, 'Gan1': {'loss': 0, 'discriminator1_loss': 0, 'discriminator1_1_loss': 0, 'encoder1_loss': 0, 'discriminator1_accuracy': 0, 'discriminator1_1_accuracy': 0, 'encoder1_accuracy': 0}}\n",
      "Epoch 24/30\n",
      "117/117 [==============================] - 153s 1s/step\n",
      "{'Gan0': {'loss': 2.737509071317493, 'activation_9_loss': 0.5498426602436948, 'z0_loss': 0.2187666417951258, 'activation_9_accuracy': 0.7008964342948721, 'z0_accuracy': 0.11162860576923074}, 'Gan1': {'loss': 0, 'feature1_source_loss': 0, 'z1_estimation_loss': 0, 'feature1_source_accuracy': 0, 'z1_estimation_accuracy': 0}}\n",
      "{'Gan0': {'loss': 2.3621141115824384, 'discriminator0_loss': 0.37693450676325035, 'discriminator0_1_loss': 0.18025976011895728, 'encoder0_loss': 0.18258199452334992, 'discriminator0_accuracy': 0.8398437500000001, 'discriminator0_1_accuracy': 0.18866853632478622, 'encoder0_accuracy': 0.6793035523504277}, 'Gan1': {'loss': 0, 'discriminator1_loss': 0, 'discriminator1_1_loss': 0, 'encoder1_loss': 0, 'discriminator1_accuracy': 0, 'discriminator1_1_accuracy': 0, 'encoder1_accuracy': 0}}\n",
      "Epoch 25/30\n",
      "117/117 [==============================] - 151s 1s/step\n",
      "{'Gan0': {'loss': 2.7245539620391326, 'activation_9_loss': 0.5460306739705242, 'z0_loss': 0.21785232743136884, 'activation_9_accuracy': 0.7032001201923082, 'z0_accuracy': 0.1167117387820513}, 'Gan1': {'loss': 0, 'feature1_source_loss': 0, 'z1_estimation_loss': 0, 'feature1_source_accuracy': 0, 'z1_estimation_accuracy': 0}}\n",
      "{'Gan0': {'loss': 2.3380926898402024, 'discriminator0_loss': 0.38401014790830446, 'discriminator0_1_loss': 0.17728888950286764, 'encoder0_loss': 0.18119366505207152, 'discriminator0_accuracy': 0.834919204059829, 'discriminator0_1_accuracy': 0.19349292200854692, 'encoder0_accuracy': 0.6768663194444444}, 'Gan1': {'loss': 0, 'discriminator1_loss': 0, 'discriminator1_1_loss': 0, 'encoder1_loss': 0, 'discriminator1_accuracy': 0, 'discriminator1_1_accuracy': 0, 'encoder1_accuracy': 0}}\n",
      "Epoch 26/30\n",
      "117/117 [==============================] - 153s 1s/step\n",
      "{'Gan0': {'loss': 2.6991658923972373, 'activation_9_loss': 0.5366501612031561, 'z0_loss': 0.2162515733741287, 'activation_9_accuracy': 0.713533319978632, 'z0_accuracy': 0.11995860042735043}, 'Gan1': {'loss': 0, 'feature1_source_loss': 0, 'z1_estimation_loss': 0, 'feature1_source_accuracy': 0, 'z1_estimation_accuracy': 0}}\n",
      "{'Gan0': {'loss': 2.2998860799349274, 'discriminator0_loss': 0.36856192210291194, 'discriminator0_1_loss': 0.17505747754859102, 'encoder0_loss': 0.18074938693107706, 'discriminator0_accuracy': 0.8436331463675213, 'discriminator0_1_accuracy': 0.1997028579059828, 'encoder0_accuracy': 0.6799712873931627}, 'Gan1': {'loss': 0, 'discriminator1_loss': 0, 'discriminator1_1_loss': 0, 'encoder1_loss': 0, 'discriminator1_accuracy': 0, 'discriminator1_1_accuracy': 0, 'encoder1_accuracy': 0}}\n",
      "Epoch 27/30\n",
      "117/117 [==============================] - 155s 1s/step\n",
      "{'Gan0': {'loss': 2.6956639187967673, 'activation_9_loss': 0.5449396012685237, 'z0_loss': 0.21507243162546405, 'activation_9_accuracy': 0.6995108840811965, 'z0_accuracy': 0.12408186431623934}, 'Gan1': {'loss': 0, 'feature1_source_loss': 0, 'z1_estimation_loss': 0, 'feature1_source_accuracy': 0, 'z1_estimation_accuracy': 0}}\n",
      "{'Gan0': {'loss': 2.310067321500208, 'discriminator0_loss': 0.3845926537218256, 'discriminator0_1_loss': 0.17427229817606446, 'encoder0_loss': 0.18275168818286336, 'discriminator0_accuracy': 0.8296941773504275, 'discriminator0_1_accuracy': 0.19810029380341868, 'encoder0_accuracy': 0.6782184829059824}, 'Gan1': {'loss': 0, 'discriminator1_loss': 0, 'discriminator1_1_loss': 0, 'encoder1_loss': 0, 'discriminator1_accuracy': 0, 'discriminator1_1_accuracy': 0, 'encoder1_accuracy': 0}}\n",
      "Epoch 28/30\n",
      "117/117 [==============================] - 153s 1s/step\n",
      "{'Gan0': {'loss': 2.6971478217687372, 'activation_9_loss': 0.5538023126940441, 'z0_loss': 0.21433455184993577, 'activation_9_accuracy': 0.690162593482906, 'z0_accuracy': 0.12809662126068383}, 'Gan1': {'loss': 0, 'feature1_source_loss': 0, 'z1_estimation_loss': 0, 'feature1_source_accuracy': 0, 'z1_estimation_accuracy': 0}}\n",
      "{'Gan0': {'loss': 2.28983211517334, 'discriminator0_loss': 0.38536086143591464, 'discriminator0_1_loss': 0.1719983068541584, 'encoder0_loss': 0.18448817628061676, 'discriminator0_accuracy': 0.8268396100427353, 'discriminator0_1_accuracy': 0.20883413461538458, 'encoder0_accuracy': 0.683193108974359}, 'Gan1': {'loss': 0, 'discriminator1_loss': 0, 'discriminator1_1_loss': 0, 'encoder1_loss': 0, 'discriminator1_accuracy': 0, 'discriminator1_1_accuracy': 0, 'encoder1_accuracy': 0}}\n",
      "Epoch 29/30\n",
      "117/117 [==============================] - 150s 1s/step\n",
      "{'Gan0': {'loss': 2.6991452172271218, 'activation_9_loss': 0.5524138599379448, 'z0_loss': 0.2146731341241771, 'activation_9_accuracy': 0.6903378739316242, 'z0_accuracy': 0.12904814369658124}, 'Gan1': {'loss': 0, 'feature1_source_loss': 0, 'z1_estimation_loss': 0, 'feature1_source_accuracy': 0, 'z1_estimation_accuracy': 0}}\n",
      "{'Gan0': {'loss': 2.299961532283033, 'discriminator0_loss': 0.4112920372659324, 'discriminator0_1_loss': 0.1708947967769754, 'encoder0_loss': 0.17972152571902325, 'discriminator0_accuracy': 0.8074752938034189, 'discriminator0_1_accuracy': 0.20953525641025625, 'encoder0_accuracy': 0.683727297008547}, 'Gan1': {'loss': 0, 'discriminator1_loss': 0, 'discriminator1_1_loss': 0, 'encoder1_loss': 0, 'discriminator1_accuracy': 0, 'discriminator1_1_accuracy': 0, 'encoder1_accuracy': 0}}\n",
      "Epoch 30/30\n",
      "117/117 [==============================] - 151s 1s/step\n",
      "{'Gan0': {'loss': 2.6771478408422205, 'activation_9_loss': 0.5441786432877567, 'z0_loss': 0.21329691993375105, 'activation_9_accuracy': 0.6983340010683762, 'z0_accuracy': 0.13355535523504275}, 'Gan1': {'loss': 0, 'feature1_source_loss': 0, 'z1_estimation_loss': 0, 'feature1_source_accuracy': 0, 'z1_estimation_accuracy': 0}}\n",
      "{'Gan0': {'loss': 2.2710375622806382, 'discriminator0_loss': 0.40666832972286093, 'discriminator0_1_loss': 0.16867743534410104, 'encoder0_loss': 0.17759487274874985, 'discriminator0_accuracy': 0.8051549145299142, 'discriminator0_1_accuracy': 0.21444310897435892, 'encoder0_accuracy': 0.6805889423076922}, 'Gan1': {'loss': 0, 'discriminator1_loss': 0, 'discriminator1_1_loss': 0, 'encoder1_loss': 0, 'discriminator1_accuracy': 0, 'discriminator1_1_accuracy': 0, 'encoder1_accuracy': 0}}\n"
     ]
    }
   ],
   "source": [
    "StGAN.train(x_train=[xtr,ytr],epoch=30,batch_size=1024,evalStep=1,pathSave=None,dataViewer=vwr)"
   ]
  },
  {
   "cell_type": "code",
   "execution_count": 19,
   "metadata": {
    "scrolled": false
   },
   "outputs": [],
   "source": [
    "from GAN.utils import createGif\n",
    "createGif(pathOutput=\"D:/Project/DeepLearning/GAN/StackedGAN/output/\",modelName=\"StackedGAN\",outputSize=(4,4),plt_vs_Image=1)"
   ]
  },
  {
   "cell_type": "code",
   "execution_count": 20,
   "metadata": {
    "scrolled": true
   },
   "outputs": [
    {
     "data": {
      "image/png": "[encoded data removed]",
      "text/plain": [
       "<Figure size 432x288 with 1 Axes>"
      ]
     },
     "metadata": {
      "needs_background": "light"
     },
     "output_type": "display_data"
    }
   ],
   "source": [
    "StGAN.GenerateOutputs(batchsize=1,xtest=None,returnArray=False,dataViewer=vwr,save=False,view=True,epoch=30)"
   ]
  }
 ],
 "metadata": {
  "kernelspec": {
   "display_name": "Python 3",
   "language": "python",
   "name": "python3"
  },
  "language_info": {
   "codemirror_mode": {
    "name": "ipython",
    "version": 3
   },
   "file_extension": ".py",
   "mimetype": "text/x-python",
   "name": "python",
   "nbconvert_exporter": "python",
   "pygments_lexer": "ipython3",
   "version": "3.7.4"
  }
 },
 "nbformat": 4,
 "nbformat_minor": 2
}
